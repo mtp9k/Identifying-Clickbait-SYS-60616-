{
  "nbformat": 4,
  "nbformat_minor": 5,
  "metadata": {
    "kernelspec": {
      "display_name": "Python 3",
      "language": "python",
      "name": "python3"
    },
    "language_info": {
      "codemirror_mode": {
        "name": "ipython",
        "version": 3
      },
      "file_extension": ".py",
      "mimetype": "text/x-python",
      "name": "python",
      "nbconvert_exporter": "python",
      "pygments_lexer": "ipython3",
      "version": "3.7.9"
    },
    "colab": {
      "name": "project_colab.ipynb",
      "provenance": [],
      "collapsed_sections": []
    },
    "accelerator": "GPU"
  },
  "cells": [
    {
      "cell_type": "code",
      "metadata": {
        "id": "compliant-exhaust"
      },
      "source": [
        "import sklearn\n",
        "assert sklearn.__version__ >= \"0.20\"\n",
        "import tensorflow as tf\n",
        "from tensorflow import keras\n",
        "import pandas as pd\n",
        "import numpy as np\n",
        "import matplotlib.pyplot as plt\n",
        "from sklearn.model_selection import train_test_split\n",
        "from sklearn.preprocessing import StandardScaler\n",
        "from tensorflow import feature_column\n",
        "from tensorflow.keras.layers import Embedding, LSTM\n",
        "from tensorflow.keras import layers\n",
        "from tensorflow.keras import layers\n",
        "from tensorflow.keras.layers.experimental import preprocessing\n",
        "from tensorflow.keras import losses\n",
        "from tensorflow.keras.layers.experimental.preprocessing import TextVectorization\n",
        "seed = 49"
      ],
      "id": "compliant-exhaust",
      "execution_count": 1,
      "outputs": []
    },
    {
      "cell_type": "markdown",
      "metadata": {
        "id": "photographic-trail"
      },
      "source": [
        "### Generating Text Files"
      ],
      "id": "photographic-trail"
    },
    {
      "cell_type": "code",
      "metadata": {
        "id": "direct-caribbean",
        "colab": {
          "base_uri": "https://localhost:8080/"
        },
        "outputId": "efc58210-b228-4ce8-da33-bc1b3bcf9722"
      },
      "source": [
        "!rm -r text"
      ],
      "id": "direct-caribbean",
      "execution_count": 2,
      "outputs": [
        {
          "output_type": "stream",
          "text": [
            "rm: cannot remove 'text': No such file or directory\n"
          ],
          "name": "stdout"
        }
      ]
    },
    {
      "cell_type": "code",
      "metadata": {
        "id": "pregnant-power"
      },
      "source": [
        "!mkdir text\n",
        "!mkdir text/clickbait\n",
        "!mkdir text/normal"
      ],
      "id": "pregnant-power",
      "execution_count": 3,
      "outputs": []
    },
    {
      "cell_type": "code",
      "metadata": {
        "id": "-ViCVGsnQo9b"
      },
      "source": [
        "githubUrl= 'https://raw.githubusercontent.com/mtp9k/Identifying-Clickbait-SYS-60616-/main/'"
      ],
      "id": "-ViCVGsnQo9b",
      "execution_count": 4,
      "outputs": []
    },
    {
      "cell_type": "code",
      "metadata": {
        "id": "dated-westminster"
      },
      "source": [
        "df = pd.read_csv(f'{githubUrl}clickbait_data.csv')"
      ],
      "id": "dated-westminster",
      "execution_count": 5,
      "outputs": []
    },
    {
      "cell_type": "code",
      "metadata": {
        "id": "spectacular-cooperative"
      },
      "source": [
        "from sklearn.model_selection import train_test_split\n",
        "\n",
        "train, test = train_test_split(df, test_size=0.1,random_state=seed)"
      ],
      "id": "spectacular-cooperative",
      "execution_count": 6,
      "outputs": []
    },
    {
      "cell_type": "code",
      "metadata": {
        "id": "cardiovascular-demographic"
      },
      "source": [
        "train.to_csv('clickbait_train.csv',index=False)\n",
        "test.to_csv('clickbait_test.csv',index=False)"
      ],
      "id": "cardiovascular-demographic",
      "execution_count": 7,
      "outputs": []
    },
    {
      "cell_type": "code",
      "metadata": {
        "id": "invisible-chile"
      },
      "source": [
        "df = pd.read_csv('clickbait_train.csv')"
      ],
      "id": "invisible-chile",
      "execution_count": 8,
      "outputs": []
    },
    {
      "cell_type": "code",
      "metadata": {
        "id": "coated-speed"
      },
      "source": [
        "normal = df.loc[df['clickbait']==0]['headline'].values\n",
        "clickbait = df.loc[df['clickbait']==1]['headline'].values"
      ],
      "id": "coated-speed",
      "execution_count": 9,
      "outputs": []
    },
    {
      "cell_type": "code",
      "metadata": {
        "id": "conscious-listening"
      },
      "source": [
        "def generateTensorflowTextDir(data,folderName):\n",
        "    for i,line in enumerate(data):\n",
        "        filename = f'{i}_{folderName}'\n",
        "        with open(f\"text/{folderName}/{filename}.txt\", \"w\") as outfile:\n",
        "            outfile.write(line)"
      ],
      "id": "conscious-listening",
      "execution_count": 10,
      "outputs": []
    },
    {
      "cell_type": "code",
      "metadata": {
        "id": "irish-pledge"
      },
      "source": [
        "generateTensorflowTextDir(normal,'normal')"
      ],
      "id": "irish-pledge",
      "execution_count": 11,
      "outputs": []
    },
    {
      "cell_type": "code",
      "metadata": {
        "id": "musical-recipe"
      },
      "source": [
        "generateTensorflowTextDir(clickbait,'clickbait')"
      ],
      "id": "musical-recipe",
      "execution_count": 12,
      "outputs": []
    },
    {
      "cell_type": "markdown",
      "metadata": {
        "id": "alive-sarah"
      },
      "source": [
        "### Generating Test Data"
      ],
      "id": "alive-sarah"
    },
    {
      "cell_type": "code",
      "metadata": {
        "id": "regulation-belarus"
      },
      "source": [
        "testData = pd.read_csv(f'{githubUrl}clickbait_test.csv')\n",
        "testText = testData['headline'].values\n",
        "testLabels = testData['clickbait'].values"
      ],
      "id": "regulation-belarus",
      "execution_count": 13,
      "outputs": []
    },
    {
      "cell_type": "code",
      "metadata": {
        "id": "outer-north"
      },
      "source": [
        "tweetTestData = pd.read_csv(f'{githubUrl}tweets.csv')\n",
        "tweetTestText = [' '.join(map(lambda x: x.strip(\"\\n;[]\\\\\"), l.split(' '))) for l in tweetTestData.postText]\n",
        "\n",
        "tweetTestLabels = np.round(tweetTestData['isClickbait'].values)"
      ],
      "id": "outer-north",
      "execution_count": 14,
      "outputs": []
    },
    {
      "cell_type": "markdown",
      "metadata": {
        "id": "according-segment"
      },
      "source": [
        "### Evaluation Helper functions"
      ],
      "id": "according-segment"
    },
    {
      "cell_type": "code",
      "metadata": {
        "id": "colonial-metropolitan"
      },
      "source": [
        "from sklearn.metrics import accuracy_score\n",
        "def getAccuracy(labels,predictions):\n",
        "    return accuracy_score(labels,np.round(predictions))"
      ],
      "id": "colonial-metropolitan",
      "execution_count": 15,
      "outputs": []
    },
    {
      "cell_type": "code",
      "metadata": {
        "id": "bibliographic-wholesale"
      },
      "source": [
        "def export_model(model):\n",
        "    ouput = tf.keras.Sequential([\n",
        "      vectorize_layer,\n",
        "      model,\n",
        "    ])\n",
        "    return ouput"
      ],
      "id": "bibliographic-wholesale",
      "execution_count": 16,
      "outputs": []
    },
    {
      "cell_type": "code",
      "metadata": {
        "id": "backed-leader"
      },
      "source": [
        "def runEvaluation(model,returnPredictions=False):\n",
        "    model_predictions= model.predict(testText)\n",
        "    model_accuracy = getAccuracy(testLabels,model_predictions)\n",
        "    model_tweet_predictions = model.predict(tweetTestText)\n",
        "    model_tweet_accuracy = getAccuracy(tweetTestLabels,model_tweet_predictions)\n",
        "    if returnPredictions:\n",
        "      return model_predictions,model_tweet_predictions\n",
        "    return model_accuracy,model_tweet_accuracy\n",
        "    "
      ],
      "id": "backed-leader",
      "execution_count": 17,
      "outputs": []
    },
    {
      "cell_type": "markdown",
      "metadata": {
        "id": "unique-scholarship"
      },
      "source": [
        "### Parsing Text Files"
      ],
      "id": "unique-scholarship"
    },
    {
      "cell_type": "code",
      "metadata": {
        "id": "elect-airport"
      },
      "source": [
        "# Batch Size -- we set to 1 to just read it in\n",
        "BATCH_SIZE = 64\n",
        "DATASET_SIZE = 32000\n",
        "train_size = 32000 - 6400\n",
        "test_size =6400\n",
        "seed = 49"
      ],
      "id": "elect-airport",
      "execution_count": 18,
      "outputs": []
    },
    {
      "cell_type": "code",
      "metadata": {
        "colab": {
          "base_uri": "https://localhost:8080/"
        },
        "id": "copyrighted-retail",
        "outputId": "5b62fba4-0866-4058-fe13-011b027b95c2"
      },
      "source": [
        "raw_train_ds = tf.keras.preprocessing.text_dataset_from_directory(\n",
        "    'text',\n",
        "    batch_size=BATCH_SIZE,\n",
        "    class_names=['normal','clickbait'],\n",
        "    subset='training',\n",
        "    validation_split=0.2, \n",
        "    seed=seed\n",
        ")"
      ],
      "id": "copyrighted-retail",
      "execution_count": 19,
      "outputs": [
        {
          "output_type": "stream",
          "text": [
            "Found 28800 files belonging to 2 classes.\n",
            "Using 23040 files for training.\n"
          ],
          "name": "stdout"
        }
      ]
    },
    {
      "cell_type": "code",
      "metadata": {
        "colab": {
          "base_uri": "https://localhost:8080/"
        },
        "id": "pleasant-soviet",
        "outputId": "bb6b0412-aaed-40a4-e584-77e71ba12cd1"
      },
      "source": [
        "print(\"Label 0 corresponds to\", raw_train_ds.class_names[0])\n",
        "print(\"Label 1 corresponds to\", raw_train_ds.class_names[1])"
      ],
      "id": "pleasant-soviet",
      "execution_count": 20,
      "outputs": [
        {
          "output_type": "stream",
          "text": [
            "Label 0 corresponds to normal\n",
            "Label 1 corresponds to clickbait\n"
          ],
          "name": "stdout"
        }
      ]
    },
    {
      "cell_type": "code",
      "metadata": {
        "colab": {
          "base_uri": "https://localhost:8080/"
        },
        "id": "billion-roads",
        "outputId": "4e8de189-254e-4764-a78b-5231cd29e22e"
      },
      "source": [
        "raw_val_ds = tf.keras.preprocessing.text_dataset_from_directory(\n",
        "   'text/',\n",
        "    batch_size=BATCH_SIZE,\n",
        "    class_names=['normal','clickbait'],\n",
        "    validation_split=0.2, \n",
        "    subset='validation', \n",
        "    seed=seed)"
      ],
      "id": "billion-roads",
      "execution_count": 21,
      "outputs": [
        {
          "output_type": "stream",
          "text": [
            "Found 28800 files belonging to 2 classes.\n",
            "Using 5760 files for validation.\n"
          ],
          "name": "stdout"
        }
      ]
    },
    {
      "cell_type": "code",
      "metadata": {
        "colab": {
          "base_uri": "https://localhost:8080/"
        },
        "id": "official-graduation",
        "outputId": "442e500c-9390-4250-8d59-d5312c6c7f0a"
      },
      "source": [
        "for x,y in raw_train_ds.take(1):\n",
        "    print(x[0:10],y[0:10])"
      ],
      "id": "official-graduation",
      "execution_count": 22,
      "outputs": [
        {
          "output_type": "stream",
          "text": [
            "tf.Tensor(\n",
            "[b'Gilchrist scores second fastest Test century'\n",
            " b'21 Sad Ass Mets Fan Tweets' b'Tankers taken by pirates in Indian Ocean'\n",
            " b'When Do Women Decide To Have Sex'\n",
            " b'German supermarket chain uses fingerprint ID for payment'\n",
            " b'Jayant \"Dr Death\" Patel arrested in Oregon, US'\n",
            " b\"Quebec's Liberal premier Jean Charest wins third term\"\n",
            " b'Debt Settlers Offer Promises but Little Help'\n",
            " b'Zimbabwe bans crop growing in urban areas'\n",
            " b'Wikinews interviews a Restore the Fourth organizer'], shape=(10,), dtype=string) tf.Tensor([0 1 0 1 0 0 0 0 0 0], shape=(10,), dtype=int32)\n"
          ],
          "name": "stdout"
        }
      ]
    },
    {
      "cell_type": "code",
      "metadata": {
        "id": "applicable-likelihood"
      },
      "source": [
        "def custom_standardization(input_data):\n",
        "    lowercase = tf.strings.lower(input_data)\n",
        "    return input_data\n",
        "    return lowercase"
      ],
      "id": "applicable-likelihood",
      "execution_count": 23,
      "outputs": []
    },
    {
      "cell_type": "code",
      "metadata": {
        "id": "boxed-belfast"
      },
      "source": [
        "max_features = 5000\n",
        "sequence_length = 500\n",
        "\n",
        "vectorize_layer = TextVectorization(\n",
        "#     standardize=custom_standardization,\n",
        "    max_tokens=max_features,\n",
        "    output_mode='int',\n",
        "    output_sequence_length=sequence_length)"
      ],
      "id": "boxed-belfast",
      "execution_count": 24,
      "outputs": []
    },
    {
      "cell_type": "code",
      "metadata": {
        "id": "valuable-wichita"
      },
      "source": [
        "# Make a text-only dataset (without labels), then call adapt\n",
        "train_text = raw_train_ds.map(lambda x, y: x)\n",
        "vectorize_layer.adapt(train_text)"
      ],
      "id": "valuable-wichita",
      "execution_count": 25,
      "outputs": []
    },
    {
      "cell_type": "code",
      "metadata": {
        "id": "reasonable-juvenile"
      },
      "source": [
        "def vectorize_text(text, label):\n",
        "    #text = tf.expand_dims(text, -1)\n",
        "    return vectorize_layer(text), label"
      ],
      "id": "reasonable-juvenile",
      "execution_count": 26,
      "outputs": []
    },
    {
      "cell_type": "code",
      "metadata": {
        "id": "virtual-anatomy"
      },
      "source": [
        "train_ds = raw_train_ds.map(vectorize_text)\n",
        "val_ds = raw_val_ds.map(vectorize_text)"
      ],
      "id": "virtual-anatomy",
      "execution_count": 27,
      "outputs": []
    },
    {
      "cell_type": "code",
      "metadata": {
        "id": "infinite-immigration"
      },
      "source": [
        "AUTOTUNE = tf.data.AUTOTUNE\n",
        "\n",
        "train_ds = train_ds.cache().prefetch(buffer_size=AUTOTUNE)\n",
        "val_ds = val_ds.cache().prefetch(buffer_size=AUTOTUNE)"
      ],
      "id": "infinite-immigration",
      "execution_count": 28,
      "outputs": []
    },
    {
      "cell_type": "code",
      "metadata": {
        "id": "compatible-theory"
      },
      "source": [
        "embedding_dim = 40"
      ],
      "id": "compatible-theory",
      "execution_count": 29,
      "outputs": []
    },
    {
      "cell_type": "markdown",
      "metadata": {
        "id": "artistic-spokesman"
      },
      "source": [
        "## Experiment 1: Simple NN Performance vs Traditional ML"
      ],
      "id": "artistic-spokesman"
    },
    {
      "cell_type": "markdown",
      "metadata": {
        "id": "eastern-boulder"
      },
      "source": [
        "### Base ML Models"
      ],
      "id": "eastern-boulder"
    },
    {
      "cell_type": "code",
      "metadata": {
        "id": "industrial-perception"
      },
      "source": [
        "def dsToNumpy(ds):\n",
        "    xList=[]\n",
        "    yList=[]\n",
        "    for x,y in ds.unbatch():\n",
        "        xList.append(x.numpy())\n",
        "        yList.append(y.numpy())\n",
        "    xList=np.array(xList)\n",
        "    yList=np.array(yList)\n",
        "    return xList,yList\n",
        "x_train,y_train = dsToNumpy(train_ds)\n",
        "x_val,y_val = dsToNumpy(val_ds)"
      ],
      "id": "industrial-perception",
      "execution_count": 30,
      "outputs": []
    },
    {
      "cell_type": "code",
      "metadata": {
        "colab": {
          "base_uri": "https://localhost:8080/"
        },
        "id": "cardiac-panel",
        "outputId": "f8cb2dab-c7ab-407f-f8b4-f64f602f1ddd"
      },
      "source": [
        "from sklearn.ensemble import RandomForestClassifier\n",
        "rf = RandomForestClassifier(max_depth=10, random_state=seed).fit(x_train, y_train)\n",
        "predictions=rf.predict(x_val)\n",
        "predictions"
      ],
      "id": "cardiac-panel",
      "execution_count": 31,
      "outputs": [
        {
          "output_type": "execute_result",
          "data": {
            "text/plain": [
              "array([1, 1, 1, ..., 0, 0, 0], dtype=int32)"
            ]
          },
          "metadata": {
            "tags": []
          },
          "execution_count": 31
        }
      ]
    },
    {
      "cell_type": "code",
      "metadata": {
        "colab": {
          "base_uri": "https://localhost:8080/"
        },
        "id": "juvenile-huntington",
        "outputId": "bd510990-2fc8-4775-ba66-69e32c0e0d2d"
      },
      "source": [
        "getAccuracy(y_val,predictions)"
      ],
      "id": "juvenile-huntington",
      "execution_count": 32,
      "outputs": [
        {
          "output_type": "execute_result",
          "data": {
            "text/plain": [
              "0.8321180555555555"
            ]
          },
          "metadata": {
            "tags": []
          },
          "execution_count": 32
        }
      ]
    },
    {
      "cell_type": "code",
      "metadata": {
        "id": "oRM1ZDqyfloQ",
        "colab": {
          "base_uri": "https://localhost:8080/"
        },
        "outputId": "09249cc6-aa34-45ff-95f5-4518defa210e"
      },
      "source": [
        "from xgboost import XGBClassifier\n",
        "model = XGBClassifier()\n",
        "model.fit(x_train, y_train)\n",
        "\n",
        "# make predictions for test data\n",
        "\n",
        "y_pred = model.predict(x_val)\n",
        "predictions = [round(value) for value in y_pred]\n",
        "\n",
        "# evaluate predictions\n",
        "\n",
        "accuracy = accuracy_score(y_val, predictions)\n",
        "accuracy\n"
      ],
      "id": "oRM1ZDqyfloQ",
      "execution_count": 33,
      "outputs": [
        {
          "output_type": "execute_result",
          "data": {
            "text/plain": [
              "0.878125"
            ]
          },
          "metadata": {
            "tags": []
          },
          "execution_count": 33
        }
      ]
    },
    {
      "cell_type": "code",
      "metadata": {
        "colab": {
          "base_uri": "https://localhost:8080/"
        },
        "id": "a_XPSutogFtO",
        "outputId": "cc8f26c0-c3e4-49da-c19f-2b476a57e58c"
      },
      "source": [
        ""
      ],
      "id": "a_XPSutogFtO",
      "execution_count": null,
      "outputs": [
        {
          "output_type": "execute_result",
          "data": {
            "text/plain": [
              "0.878125"
            ]
          },
          "metadata": {
            "tags": []
          },
          "execution_count": 36
        }
      ]
    },
    {
      "cell_type": "markdown",
      "metadata": {
        "id": "insured-alert"
      },
      "source": [
        "### Simple LSTM Model"
      ],
      "id": "insured-alert"
    },
    {
      "cell_type": "code",
      "metadata": {
        "id": "changed-honey"
      },
      "source": [
        "def LSTM_nn():\n",
        "    model = tf.keras.Sequential([\n",
        "      layers.Embedding(max_features, embedding_dim,input_length=sequence_length),\n",
        "      LSTM(32, return_sequences=True),\n",
        "      layers.GlobalAveragePooling1D(),\n",
        "      layers.Dropout(0.3),\n",
        "      layers.Dense(1,activation='sigmoid')])\n",
        "    return model"
      ],
      "id": "changed-honey",
      "execution_count": 34,
      "outputs": []
    },
    {
      "cell_type": "code",
      "metadata": {
        "colab": {
          "base_uri": "https://localhost:8080/"
        },
        "id": "coral-haiti",
        "outputId": "b0e60496-5541-4460-bdd6-e1bca0d6b758"
      },
      "source": [
        "lstm_model = LSTM_nn()\n",
        "optimizer = keras.optimizers.Adam(lr=0.0001)\n",
        "lstm_model.compile(loss=losses.BinaryCrossentropy(from_logits=True),\n",
        "              optimizer='adam',\n",
        "              metrics=['accuracy'])\n",
        "epochs = 5\n",
        "history = lstm_model.fit(\n",
        "    train_ds,\n",
        "    validation_data=val_ds,\n",
        "    epochs=epochs)"
      ],
      "id": "coral-haiti",
      "execution_count": 35,
      "outputs": [
        {
          "output_type": "stream",
          "text": [
            "Epoch 1/5\n",
            "360/360 [==============================] - 26s 26ms/step - loss: 0.5953 - accuracy: 0.6004 - val_loss: 0.1661 - val_accuracy: 0.9602\n",
            "Epoch 2/5\n",
            "360/360 [==============================] - 9s 25ms/step - loss: 0.1562 - accuracy: 0.9647 - val_loss: 0.1518 - val_accuracy: 0.9655\n",
            "Epoch 3/5\n",
            "360/360 [==============================] - 9s 25ms/step - loss: 0.1173 - accuracy: 0.9747 - val_loss: 0.1420 - val_accuracy: 0.9679\n",
            "Epoch 4/5\n",
            "360/360 [==============================] - 9s 25ms/step - loss: 0.0775 - accuracy: 0.9853 - val_loss: 0.1441 - val_accuracy: 0.9694\n",
            "Epoch 5/5\n",
            "360/360 [==============================] - 9s 25ms/step - loss: 0.0998 - accuracy: 0.9788 - val_loss: 0.1399 - val_accuracy: 0.9701\n"
          ],
          "name": "stdout"
        }
      ]
    },
    {
      "cell_type": "code",
      "metadata": {
        "id": "clean-guarantee"
      },
      "source": [
        "export_lstm_model = export_model(lstm_model)\n",
        "lstm_accuracy,lstm_tweet_accuracy = runEvaluation(export_lstm_model)"
      ],
      "id": "clean-guarantee",
      "execution_count": 36,
      "outputs": []
    },
    {
      "cell_type": "code",
      "metadata": {
        "colab": {
          "base_uri": "https://localhost:8080/"
        },
        "id": "flying-medium",
        "outputId": "2205bc3b-bec8-4f79-97ea-9f21425856f2"
      },
      "source": [
        "print('same dataset evaluation accuracy:')\n",
        "print(lstm_accuracy)\n",
        "print('twitter dataset evaluation accuracy:')\n",
        "print(lstm_tweet_accuracy)"
      ],
      "id": "flying-medium",
      "execution_count": 37,
      "outputs": [
        {
          "output_type": "stream",
          "text": [
            "same dataset evaluation accuracy:\n",
            "0.971875\n",
            "twitter dataset evaluation accuracy:\n",
            "0.5082\n"
          ],
          "name": "stdout"
        }
      ]
    },
    {
      "cell_type": "markdown",
      "metadata": {
        "id": "increased-checkout"
      },
      "source": [
        "## Experiment 2: NN Architecture Comparisons + Ensemble"
      ],
      "id": "increased-checkout"
    },
    {
      "cell_type": "markdown",
      "metadata": {
        "id": "greek-clark"
      },
      "source": [
        "### Simple GRU Model"
      ],
      "id": "greek-clark"
    },
    {
      "cell_type": "code",
      "metadata": {
        "id": "fossil-northwest"
      },
      "source": [
        "def GRU_nn():\n",
        "    model = tf.keras.Sequential([\n",
        "      layers.Embedding(max_features, embedding_dim,input_length=sequence_length),\n",
        "      layers.GRU(embedding_dim, return_sequences=True),\n",
        "      layers.GlobalAveragePooling1D(),\n",
        "      layers.Dropout(0.3),\n",
        "      layers.Dense(1,activation='sigmoid')])\n",
        "    return model"
      ],
      "id": "fossil-northwest",
      "execution_count": 39,
      "outputs": []
    },
    {
      "cell_type": "code",
      "metadata": {
        "colab": {
          "base_uri": "https://localhost:8080/"
        },
        "id": "varied-document",
        "outputId": "6d0237c3-3609-421c-c247-ea5048c777ed"
      },
      "source": [
        "gru_model = GRU_nn()\n",
        "optimizer = keras.optimizers.Adam(lr=0.0001)\n",
        "gru_model.compile(loss=losses.BinaryCrossentropy(from_logits=True),\n",
        "              optimizer='adam',\n",
        "              metrics=['accuracy'])\n",
        "epochs = 5\n",
        "history = gru_model.fit(\n",
        "    train_ds,\n",
        "    validation_data=val_ds,\n",
        "    epochs=epochs)"
      ],
      "id": "varied-document",
      "execution_count": 40,
      "outputs": [
        {
          "output_type": "stream",
          "text": [
            "Epoch 1/5\n",
            "360/360 [==============================] - 11s 26ms/step - loss: 0.6329 - accuracy: 0.5675 - val_loss: 0.1641 - val_accuracy: 0.9543\n",
            "Epoch 2/5\n",
            "360/360 [==============================] - 9s 25ms/step - loss: 0.1499 - accuracy: 0.9584 - val_loss: 0.1093 - val_accuracy: 0.9698\n",
            "Epoch 3/5\n",
            "360/360 [==============================] - 9s 25ms/step - loss: 0.0857 - accuracy: 0.9755 - val_loss: 0.0921 - val_accuracy: 0.9712\n",
            "Epoch 4/5\n",
            "360/360 [==============================] - 9s 25ms/step - loss: 0.0545 - accuracy: 0.9844 - val_loss: 0.0914 - val_accuracy: 0.9722\n",
            "Epoch 5/5\n",
            "360/360 [==============================] - 9s 25ms/step - loss: 0.0363 - accuracy: 0.9900 - val_loss: 0.1000 - val_accuracy: 0.9724\n"
          ],
          "name": "stdout"
        }
      ]
    },
    {
      "cell_type": "code",
      "metadata": {
        "id": "coordinate-affiliation"
      },
      "source": [
        "export_gru_model = export_model(gru_model)\n",
        "gru_accuracy,gru_tweet_accuracy = runEvaluation(export_gru_model)"
      ],
      "id": "coordinate-affiliation",
      "execution_count": 41,
      "outputs": []
    },
    {
      "cell_type": "code",
      "metadata": {
        "colab": {
          "base_uri": "https://localhost:8080/"
        },
        "id": "fundamental-superior",
        "outputId": "d9d8f687-0f00-47fd-80ed-5e9dfb39467c"
      },
      "source": [
        "print('same dataset evaluation accuracy:')\n",
        "print(gru_accuracy)\n",
        "print('twitter dataset evaluation accuracy:')\n",
        "print(gru_tweet_accuracy)"
      ],
      "id": "fundamental-superior",
      "execution_count": 42,
      "outputs": [
        {
          "output_type": "stream",
          "text": [
            "same dataset evaluation accuracy:\n",
            "0.97625\n",
            "twitter dataset evaluation accuracy:\n",
            "0.5209\n"
          ],
          "name": "stdout"
        }
      ]
    },
    {
      "cell_type": "markdown",
      "metadata": {
        "id": "billion-deposit"
      },
      "source": [
        "### BERT Model"
      ],
      "id": "billion-deposit"
    },
    {
      "cell_type": "code",
      "metadata": {
        "colab": {
          "base_uri": "https://localhost:8080/"
        },
        "id": "rZWZoA62ShyD",
        "outputId": "ce7e205c-139e-4955-9bd9-c9a2213b50f3"
      },
      "source": [
        "!pip install -q tensorflow-text\n",
        "!pip install -q tf-models-official"
      ],
      "id": "rZWZoA62ShyD",
      "execution_count": 43,
      "outputs": [
        {
          "output_type": "stream",
          "text": [
            "\u001b[K     |████████████████████████████████| 3.4MB 14.1MB/s \n",
            "\u001b[K     |████████████████████████████████| 1.1MB 15.4MB/s \n",
            "\u001b[K     |████████████████████████████████| 645kB 51.4MB/s \n",
            "\u001b[K     |████████████████████████████████| 706kB 59.5MB/s \n",
            "\u001b[K     |████████████████████████████████| 51kB 7.9MB/s \n",
            "\u001b[K     |████████████████████████████████| 37.6MB 1.2MB/s \n",
            "\u001b[K     |████████████████████████████████| 1.2MB 60.8MB/s \n",
            "\u001b[K     |████████████████████████████████| 174kB 63.7MB/s \n",
            "\u001b[K     |████████████████████████████████| 358kB 58.2MB/s \n",
            "\u001b[K     |████████████████████████████████| 102kB 13.0MB/s \n",
            "\u001b[?25h  Building wheel for seqeval (setup.py) ... \u001b[?25l\u001b[?25hdone\n",
            "  Building wheel for py-cpuinfo (setup.py) ... \u001b[?25l\u001b[?25hdone\n"
          ],
          "name": "stdout"
        }
      ]
    },
    {
      "cell_type": "code",
      "metadata": {
        "id": "ongoing-gothic"
      },
      "source": [
        "import tensorflow as tf\n",
        "import tensorflow_hub as hub\n",
        "import tensorflow_text as text\n",
        "from official.nlp import optimization  # to create AdamW optmizer"
      ],
      "id": "ongoing-gothic",
      "execution_count": 44,
      "outputs": []
    },
    {
      "cell_type": "code",
      "metadata": {
        "colab": {
          "base_uri": "https://localhost:8080/"
        },
        "id": "guilty-sierra",
        "outputId": "8860cc16-aade-493c-8675-6da17eb6db85"
      },
      "source": [
        "bert_model_name = 'small_bert/bert_en_uncased_L-4_H-512_A-8' \n",
        "\n",
        "map_name_to_handle = {\n",
        "    'bert_en_uncased_L-12_H-768_A-12':\n",
        "        'https://tfhub.dev/tensorflow/bert_en_uncased_L-12_H-768_A-12/3',\n",
        "    'bert_en_cased_L-12_H-768_A-12':\n",
        "        'https://tfhub.dev/tensorflow/bert_en_cased_L-12_H-768_A-12/3',\n",
        "    'bert_multi_cased_L-12_H-768_A-12':\n",
        "        'https://tfhub.dev/tensorflow/bert_multi_cased_L-12_H-768_A-12/3',\n",
        "    'small_bert/bert_en_uncased_L-2_H-128_A-2':\n",
        "        'https://tfhub.dev/tensorflow/small_bert/bert_en_uncased_L-2_H-128_A-2/1',\n",
        "    'small_bert/bert_en_uncased_L-2_H-256_A-4':\n",
        "        'https://tfhub.dev/tensorflow/small_bert/bert_en_uncased_L-2_H-256_A-4/1',\n",
        "    'small_bert/bert_en_uncased_L-2_H-512_A-8':\n",
        "        'https://tfhub.dev/tensorflow/small_bert/bert_en_uncased_L-2_H-512_A-8/1',\n",
        "    'small_bert/bert_en_uncased_L-2_H-768_A-12':\n",
        "        'https://tfhub.dev/tensorflow/small_bert/bert_en_uncased_L-2_H-768_A-12/1',\n",
        "    'small_bert/bert_en_uncased_L-4_H-128_A-2':\n",
        "        'https://tfhub.dev/tensorflow/small_bert/bert_en_uncased_L-4_H-128_A-2/1',\n",
        "    'small_bert/bert_en_uncased_L-4_H-256_A-4':\n",
        "        'https://tfhub.dev/tensorflow/small_bert/bert_en_uncased_L-4_H-256_A-4/1',\n",
        "    'small_bert/bert_en_uncased_L-4_H-512_A-8':\n",
        "        'https://tfhub.dev/tensorflow/small_bert/bert_en_uncased_L-4_H-512_A-8/1',\n",
        "    'small_bert/bert_en_uncased_L-4_H-768_A-12':\n",
        "        'https://tfhub.dev/tensorflow/small_bert/bert_en_uncased_L-4_H-768_A-12/1',\n",
        "    'small_bert/bert_en_uncased_L-6_H-128_A-2':\n",
        "        'https://tfhub.dev/tensorflow/small_bert/bert_en_uncased_L-6_H-128_A-2/1',\n",
        "    'small_bert/bert_en_uncased_L-6_H-256_A-4':\n",
        "        'https://tfhub.dev/tensorflow/small_bert/bert_en_uncased_L-6_H-256_A-4/1',\n",
        "    'small_bert/bert_en_uncased_L-6_H-512_A-8':\n",
        "        'https://tfhub.dev/tensorflow/small_bert/bert_en_uncased_L-6_H-512_A-8/1',\n",
        "    'small_bert/bert_en_uncased_L-6_H-768_A-12':\n",
        "        'https://tfhub.dev/tensorflow/small_bert/bert_en_uncased_L-6_H-768_A-12/1',\n",
        "    'small_bert/bert_en_uncased_L-8_H-128_A-2':\n",
        "        'https://tfhub.dev/tensorflow/small_bert/bert_en_uncased_L-8_H-128_A-2/1',\n",
        "    'small_bert/bert_en_uncased_L-8_H-256_A-4':\n",
        "        'https://tfhub.dev/tensorflow/small_bert/bert_en_uncased_L-8_H-256_A-4/1',\n",
        "    'small_bert/bert_en_uncased_L-8_H-512_A-8':\n",
        "        'https://tfhub.dev/tensorflow/small_bert/bert_en_uncased_L-8_H-512_A-8/1',\n",
        "    'small_bert/bert_en_uncased_L-8_H-768_A-12':\n",
        "        'https://tfhub.dev/tensorflow/small_bert/bert_en_uncased_L-8_H-768_A-12/1',\n",
        "    'small_bert/bert_en_uncased_L-10_H-128_A-2':\n",
        "        'https://tfhub.dev/tensorflow/small_bert/bert_en_uncased_L-10_H-128_A-2/1',\n",
        "    'small_bert/bert_en_uncased_L-10_H-256_A-4':\n",
        "        'https://tfhub.dev/tensorflow/small_bert/bert_en_uncased_L-10_H-256_A-4/1',\n",
        "    'small_bert/bert_en_uncased_L-10_H-512_A-8':\n",
        "        'https://tfhub.dev/tensorflow/small_bert/bert_en_uncased_L-10_H-512_A-8/1',\n",
        "    'small_bert/bert_en_uncased_L-10_H-768_A-12':\n",
        "        'https://tfhub.dev/tensorflow/small_bert/bert_en_uncased_L-10_H-768_A-12/1',\n",
        "    'small_bert/bert_en_uncased_L-12_H-128_A-2':\n",
        "        'https://tfhub.dev/tensorflow/small_bert/bert_en_uncased_L-12_H-128_A-2/1',\n",
        "    'small_bert/bert_en_uncased_L-12_H-256_A-4':\n",
        "        'https://tfhub.dev/tensorflow/small_bert/bert_en_uncased_L-12_H-256_A-4/1',\n",
        "    'small_bert/bert_en_uncased_L-12_H-512_A-8':\n",
        "        'https://tfhub.dev/tensorflow/small_bert/bert_en_uncased_L-12_H-512_A-8/1',\n",
        "    'small_bert/bert_en_uncased_L-12_H-768_A-12':\n",
        "        'https://tfhub.dev/tensorflow/small_bert/bert_en_uncased_L-12_H-768_A-12/1',\n",
        "    'albert_en_base':\n",
        "        'https://tfhub.dev/tensorflow/albert_en_base/2',\n",
        "    'electra_small':\n",
        "        'https://tfhub.dev/google/electra_small/2',\n",
        "    'electra_base':\n",
        "        'https://tfhub.dev/google/electra_base/2',\n",
        "    'experts_pubmed':\n",
        "        'https://tfhub.dev/google/experts/bert/pubmed/2',\n",
        "    'experts_wiki_books':\n",
        "        'https://tfhub.dev/google/experts/bert/wiki_books/2',\n",
        "    'talking-heads_base':\n",
        "        'https://tfhub.dev/tensorflow/talkheads_ggelu_bert_en_base/1',\n",
        "}\n",
        "\n",
        "map_model_to_preprocess = {\n",
        "    'bert_en_uncased_L-12_H-768_A-12':\n",
        "        'https://tfhub.dev/tensorflow/bert_en_uncased_preprocess/3',\n",
        "    'bert_en_cased_L-12_H-768_A-12':\n",
        "        'https://tfhub.dev/tensorflow/bert_en_cased_preprocess/3',\n",
        "    'small_bert/bert_en_uncased_L-2_H-128_A-2':\n",
        "        'https://tfhub.dev/tensorflow/bert_en_uncased_preprocess/3',\n",
        "    'small_bert/bert_en_uncased_L-2_H-256_A-4':\n",
        "        'https://tfhub.dev/tensorflow/bert_en_uncased_preprocess/3',\n",
        "    'small_bert/bert_en_uncased_L-2_H-512_A-8':\n",
        "        'https://tfhub.dev/tensorflow/bert_en_uncased_preprocess/3',\n",
        "    'small_bert/bert_en_uncased_L-2_H-768_A-12':\n",
        "        'https://tfhub.dev/tensorflow/bert_en_uncased_preprocess/3',\n",
        "    'small_bert/bert_en_uncased_L-4_H-128_A-2':\n",
        "        'https://tfhub.dev/tensorflow/bert_en_uncased_preprocess/3',\n",
        "    'small_bert/bert_en_uncased_L-4_H-256_A-4':\n",
        "        'https://tfhub.dev/tensorflow/bert_en_uncased_preprocess/3',\n",
        "    'small_bert/bert_en_uncased_L-4_H-512_A-8':\n",
        "        'https://tfhub.dev/tensorflow/bert_en_uncased_preprocess/3',\n",
        "    'small_bert/bert_en_uncased_L-4_H-768_A-12':\n",
        "        'https://tfhub.dev/tensorflow/bert_en_uncased_preprocess/3',\n",
        "    'small_bert/bert_en_uncased_L-6_H-128_A-2':\n",
        "        'https://tfhub.dev/tensorflow/bert_en_uncased_preprocess/3',\n",
        "    'small_bert/bert_en_uncased_L-6_H-256_A-4':\n",
        "        'https://tfhub.dev/tensorflow/bert_en_uncased_preprocess/3',\n",
        "    'small_bert/bert_en_uncased_L-6_H-512_A-8':\n",
        "        'https://tfhub.dev/tensorflow/bert_en_uncased_preprocess/3',\n",
        "    'small_bert/bert_en_uncased_L-6_H-768_A-12':\n",
        "        'https://tfhub.dev/tensorflow/bert_en_uncased_preprocess/3',\n",
        "    'small_bert/bert_en_uncased_L-8_H-128_A-2':\n",
        "        'https://tfhub.dev/tensorflow/bert_en_uncased_preprocess/3',\n",
        "    'small_bert/bert_en_uncased_L-8_H-256_A-4':\n",
        "        'https://tfhub.dev/tensorflow/bert_en_uncased_preprocess/3',\n",
        "    'small_bert/bert_en_uncased_L-8_H-512_A-8':\n",
        "        'https://tfhub.dev/tensorflow/bert_en_uncased_preprocess/3',\n",
        "    'small_bert/bert_en_uncased_L-8_H-768_A-12':\n",
        "        'https://tfhub.dev/tensorflow/bert_en_uncased_preprocess/3',\n",
        "    'small_bert/bert_en_uncased_L-10_H-128_A-2':\n",
        "        'https://tfhub.dev/tensorflow/bert_en_uncased_preprocess/3',\n",
        "    'small_bert/bert_en_uncased_L-10_H-256_A-4':\n",
        "        'https://tfhub.dev/tensorflow/bert_en_uncased_preprocess/3',\n",
        "    'small_bert/bert_en_uncased_L-10_H-512_A-8':\n",
        "        'https://tfhub.dev/tensorflow/bert_en_uncased_preprocess/3',\n",
        "    'small_bert/bert_en_uncased_L-10_H-768_A-12':\n",
        "        'https://tfhub.dev/tensorflow/bert_en_uncased_preprocess/3',\n",
        "    'small_bert/bert_en_uncased_L-12_H-128_A-2':\n",
        "        'https://tfhub.dev/tensorflow/bert_en_uncased_preprocess/3',\n",
        "    'small_bert/bert_en_uncased_L-12_H-256_A-4':\n",
        "        'https://tfhub.dev/tensorflow/bert_en_uncased_preprocess/3',\n",
        "    'small_bert/bert_en_uncased_L-12_H-512_A-8':\n",
        "        'https://tfhub.dev/tensorflow/bert_en_uncased_preprocess/3',\n",
        "    'small_bert/bert_en_uncased_L-12_H-768_A-12':\n",
        "        'https://tfhub.dev/tensorflow/bert_en_uncased_preprocess/3',\n",
        "    'bert_multi_cased_L-12_H-768_A-12':\n",
        "        'https://tfhub.dev/tensorflow/bert_multi_cased_preprocess/3',\n",
        "    'albert_en_base':\n",
        "        'https://tfhub.dev/tensorflow/albert_en_preprocess/3',\n",
        "    'electra_small':\n",
        "        'https://tfhub.dev/tensorflow/bert_en_uncased_preprocess/3',\n",
        "    'electra_base':\n",
        "        'https://tfhub.dev/tensorflow/bert_en_uncased_preprocess/3',\n",
        "    'experts_pubmed':\n",
        "        'https://tfhub.dev/tensorflow/bert_en_uncased_preprocess/3',\n",
        "    'experts_wiki_books':\n",
        "        'https://tfhub.dev/tensorflow/bert_en_uncased_preprocess/3',\n",
        "    'talking-heads_base':\n",
        "        'https://tfhub.dev/tensorflow/bert_en_uncased_preprocess/3',\n",
        "}\n",
        "\n",
        "tfhub_handle_encoder = map_name_to_handle[bert_model_name]\n",
        "tfhub_handle_preprocess = map_model_to_preprocess[bert_model_name]\n",
        "\n",
        "print(f'BERT model selected           : {tfhub_handle_encoder}')\n",
        "print(f'Preprocess model auto-selected: {tfhub_handle_preprocess}')"
      ],
      "id": "guilty-sierra",
      "execution_count": 45,
      "outputs": [
        {
          "output_type": "stream",
          "text": [
            "BERT model selected           : https://tfhub.dev/tensorflow/small_bert/bert_en_uncased_L-4_H-512_A-8/1\n",
            "Preprocess model auto-selected: https://tfhub.dev/tensorflow/bert_en_uncased_preprocess/3\n"
          ],
          "name": "stdout"
        }
      ]
    },
    {
      "cell_type": "code",
      "metadata": {
        "id": "standard-philosophy"
      },
      "source": [
        "bert_preprocess_model = hub.KerasLayer(tfhub_handle_preprocess)\n",
        "text_test = ['this is such an amazing movie!']\n",
        "text_preprocessed = bert_preprocess_model(text_test)"
      ],
      "id": "standard-philosophy",
      "execution_count": 46,
      "outputs": []
    },
    {
      "cell_type": "code",
      "metadata": {
        "id": "incorporated-chocolate"
      },
      "source": [
        "def BERT_nn():\n",
        "    text_input = tf.keras.layers.Input(shape=(), dtype=tf.string, name='text')\n",
        "    preprocessing_layer = hub.KerasLayer(tfhub_handle_preprocess, name='preprocessing')\n",
        "    encoder_inputs = preprocessing_layer(text_input)\n",
        "    encoder = hub.KerasLayer(tfhub_handle_encoder, trainable=True, name='BERT_encoder')\n",
        "    outputs = encoder(encoder_inputs)\n",
        "    net = outputs['pooled_output']\n",
        "    net = tf.keras.layers.Dropout(0.1)(net)\n",
        "    net = tf.keras.layers.Dense(1,activation='sigmoid')(net)\n",
        "    return tf.keras.Model(text_input, net)"
      ],
      "id": "incorporated-chocolate",
      "execution_count": 47,
      "outputs": []
    },
    {
      "cell_type": "code",
      "metadata": {
        "colab": {
          "base_uri": "https://localhost:8080/"
        },
        "id": "solid-article",
        "outputId": "73dc9307-598f-41fa-8ad2-b9786cfe29ca"
      },
      "source": [
        "bert_model = BERT_nn()\n",
        "loss = tf.keras.losses.BinaryCrossentropy(from_logits=True)\n",
        "metrics = tf.metrics.BinaryAccuracy()\n",
        "epochs = 2\n",
        "steps_per_epoch = tf.data.experimental.cardinality(train_ds).numpy()\n",
        "num_train_steps = steps_per_epoch * epochs\n",
        "num_warmup_steps = int(0.1*num_train_steps)\n",
        "\n",
        "init_lr = 3e-5\n",
        "optimizer = optimization.create_optimizer(init_lr=init_lr,\n",
        "                                          num_train_steps=num_train_steps,\n",
        "                                          num_warmup_steps=num_warmup_steps,\n",
        "                                          optimizer_type='adamw')\n",
        "bert_model.compile(optimizer=optimizer,\n",
        "                         loss=loss,\n",
        "                         metrics=metrics)\n",
        "history = bert_model.fit(\n",
        "    raw_train_ds,\n",
        "    validation_data=raw_val_ds,\n",
        "    epochs=epochs)"
      ],
      "id": "solid-article",
      "execution_count": 48,
      "outputs": [
        {
          "output_type": "stream",
          "text": [
            "WARNING:tensorflow:5 out of the last 5 calls to <function recreate_function.<locals>.restored_function_body at 0x7fe0b823f4d0> triggered tf.function retracing. Tracing is expensive and the excessive number of tracings could be due to (1) creating @tf.function repeatedly in a loop, (2) passing tensors with different shapes, (3) passing Python objects instead of tensors. For (1), please define your @tf.function outside of the loop. For (2), @tf.function has experimental_relax_shapes=True option that relaxes argument shapes that can avoid unnecessary retracing. For (3), please refer to https://www.tensorflow.org/guide/function#controlling_retracing and https://www.tensorflow.org/api_docs/python/tf/function for  more details.\n"
          ],
          "name": "stdout"
        },
        {
          "output_type": "stream",
          "text": [
            "WARNING:tensorflow:5 out of the last 5 calls to <function recreate_function.<locals>.restored_function_body at 0x7fe0b823f4d0> triggered tf.function retracing. Tracing is expensive and the excessive number of tracings could be due to (1) creating @tf.function repeatedly in a loop, (2) passing tensors with different shapes, (3) passing Python objects instead of tensors. For (1), please define your @tf.function outside of the loop. For (2), @tf.function has experimental_relax_shapes=True option that relaxes argument shapes that can avoid unnecessary retracing. For (3), please refer to https://www.tensorflow.org/guide/function#controlling_retracing and https://www.tensorflow.org/api_docs/python/tf/function for  more details.\n"
          ],
          "name": "stderr"
        },
        {
          "output_type": "stream",
          "text": [
            "Epoch 1/2\n",
            "360/360 [==============================] - 145s 388ms/step - loss: 0.2633 - binary_accuracy: 0.8723 - val_loss: 0.0531 - val_binary_accuracy: 0.9826\n",
            "Epoch 2/2\n",
            "360/360 [==============================] - 139s 387ms/step - loss: 0.0385 - binary_accuracy: 0.9865 - val_loss: 0.0511 - val_binary_accuracy: 0.9837\n"
          ],
          "name": "stdout"
        }
      ]
    },
    {
      "cell_type": "code",
      "metadata": {
        "id": "bO0o3Jk9W4ms"
      },
      "source": [
        "bert_accuracy,bert_tweet_accuracy = runEvaluation(bert_model)"
      ],
      "id": "bO0o3Jk9W4ms",
      "execution_count": 49,
      "outputs": []
    },
    {
      "cell_type": "code",
      "metadata": {
        "colab": {
          "base_uri": "https://localhost:8080/"
        },
        "id": "pi4Dhn8TXNSW",
        "outputId": "3ba54648-8ca3-4fac-b9d9-fe94f7496e7e"
      },
      "source": [
        "print('same dataset evaluation accuracy:')\n",
        "print(bert_accuracy)\n",
        "print('twitter dataset evaluation accuracy:')\n",
        "print(bert_tweet_accuracy)"
      ],
      "id": "pi4Dhn8TXNSW",
      "execution_count": 50,
      "outputs": [
        {
          "output_type": "stream",
          "text": [
            "same dataset evaluation accuracy:\n",
            "0.9865625\n",
            "twitter dataset evaluation accuracy:\n",
            "0.6015\n"
          ],
          "name": "stdout"
        }
      ]
    },
    {
      "cell_type": "markdown",
      "metadata": {
        "id": "G2T0_3GcZNSw"
      },
      "source": [
        "### Results"
      ],
      "id": "G2T0_3GcZNSw"
    },
    {
      "cell_type": "code",
      "metadata": {
        "colab": {
          "base_uri": "https://localhost:8080/",
          "height": 142
        },
        "id": "u8EmLBHbZPQh",
        "outputId": "9f814cd8-b92b-482e-fe9a-13d5fb4e451d"
      },
      "source": [
        "results = pd.DataFrame({'Model':['LSTM','GRU','BERT'],'Test Set Accuracy':[lstm_accuracy,gru_accuracy,bert_accuracy],'Twitter Set Accuracy':[lstm_tweet_accuracy,gru_tweet_accuracy,bert_tweet_accuracy]})\n",
        "results"
      ],
      "id": "u8EmLBHbZPQh",
      "execution_count": 51,
      "outputs": [
        {
          "output_type": "execute_result",
          "data": {
            "text/html": [
              "<div>\n",
              "<style scoped>\n",
              "    .dataframe tbody tr th:only-of-type {\n",
              "        vertical-align: middle;\n",
              "    }\n",
              "\n",
              "    .dataframe tbody tr th {\n",
              "        vertical-align: top;\n",
              "    }\n",
              "\n",
              "    .dataframe thead th {\n",
              "        text-align: right;\n",
              "    }\n",
              "</style>\n",
              "<table border=\"1\" class=\"dataframe\">\n",
              "  <thead>\n",
              "    <tr style=\"text-align: right;\">\n",
              "      <th></th>\n",
              "      <th>Model</th>\n",
              "      <th>Test Set Accuracy</th>\n",
              "      <th>Twitter Set Accuracy</th>\n",
              "    </tr>\n",
              "  </thead>\n",
              "  <tbody>\n",
              "    <tr>\n",
              "      <th>0</th>\n",
              "      <td>LSTM</td>\n",
              "      <td>0.971875</td>\n",
              "      <td>0.5082</td>\n",
              "    </tr>\n",
              "    <tr>\n",
              "      <th>1</th>\n",
              "      <td>GRU</td>\n",
              "      <td>0.976250</td>\n",
              "      <td>0.5209</td>\n",
              "    </tr>\n",
              "    <tr>\n",
              "      <th>2</th>\n",
              "      <td>BERT</td>\n",
              "      <td>0.986563</td>\n",
              "      <td>0.6015</td>\n",
              "    </tr>\n",
              "  </tbody>\n",
              "</table>\n",
              "</div>"
            ],
            "text/plain": [
              "  Model  Test Set Accuracy  Twitter Set Accuracy\n",
              "0  LSTM           0.971875                0.5082\n",
              "1   GRU           0.976250                0.5209\n",
              "2  BERT           0.986563                0.6015"
            ]
          },
          "metadata": {
            "tags": []
          },
          "execution_count": 51
        }
      ]
    },
    {
      "cell_type": "markdown",
      "metadata": {
        "id": "b5eMOS7xaJNv"
      },
      "source": [
        "### Naieve Ensemble"
      ],
      "id": "b5eMOS7xaJNv"
    },
    {
      "cell_type": "code",
      "metadata": {
        "id": "1BajR_SvadJ3"
      },
      "source": [
        "lstm_pred,lstm_tweet_pred = runEvaluation(export_lstm_model,True)\n",
        "gru_pred,gru_tweet_pred = runEvaluation(export_gru_model,True)\n",
        "bert_pred,bert_tweet_pred = runEvaluation(bert_model,True)"
      ],
      "id": "1BajR_SvadJ3",
      "execution_count": 52,
      "outputs": []
    },
    {
      "cell_type": "code",
      "metadata": {
        "colab": {
          "base_uri": "https://localhost:8080/"
        },
        "id": "fBaSSWUwavyB",
        "outputId": "ca4032d5-926b-4c43-81b9-8b48d6bb4e82"
      },
      "source": [
        "ensemble_predictions = (lstm_pred + gru_pred + bert_pred) / 3\n",
        "ensemble_tweet_predictions = (lstm_tweet_pred + gru_tweet_pred + bert_tweet_pred) / 3\n",
        "ensemble_acc = getAccuracy(testLabels,ensemble_predictions)\n",
        "ensemble_tweet_acc = getAccuracy(tweetTestLabels,ensemble_tweet_predictions)\n",
        "print('Ensemble Test Set Accuracy:')\n",
        "print(ensemble_acc)\n",
        "print('Ensemble Tweet Set Accuracy:')\n",
        "print(ensemble_tweet_acc)"
      ],
      "id": "fBaSSWUwavyB",
      "execution_count": 53,
      "outputs": [
        {
          "output_type": "stream",
          "text": [
            "Ensemble Test Set Accuracy:\n",
            "0.980625\n",
            "Ensemble Tweet Set Accuracy:\n",
            "0.5278\n"
          ],
          "name": "stdout"
        }
      ]
    },
    {
      "cell_type": "markdown",
      "metadata": {
        "id": "streaming-secondary"
      },
      "source": [
        "## Experiment 3: Performance of Label Smoothing"
      ],
      "id": "streaming-secondary"
    },
    {
      "cell_type": "code",
      "metadata": {
        "colab": {
          "base_uri": "https://localhost:8080/"
        },
        "id": "linear-trance",
        "outputId": "9ba077ff-043c-45f2-8358-65e9fe57b4cc"
      },
      "source": [
        "keras.backend.clear_session()\n",
        "smooth_model = LSTM_nn()\n",
        "label_smoothing =  0.1\n",
        "optimizer = keras.optimizers.Adam(lr=0.0001)\n",
        "smooth_model.compile(loss=losses.BinaryCrossentropy(from_logits=True,label_smoothing=label_smoothing),\n",
        "              optimizer='adam',\n",
        "              metrics=['accuracy'])\n",
        "epochs = 5\n",
        "history = smooth_model.fit(\n",
        "    train_ds,\n",
        "    validation_data=val_ds,\n",
        "    epochs=epochs)"
      ],
      "id": "linear-trance",
      "execution_count": 58,
      "outputs": [
        {
          "output_type": "stream",
          "text": [
            "Epoch 1/5\n",
            "360/360 [==============================] - 11s 26ms/step - loss: 0.6390 - accuracy: 0.5795 - val_loss: 0.2956 - val_accuracy: 0.9582\n",
            "Epoch 2/5\n",
            "360/360 [==============================] - 9s 25ms/step - loss: 0.3051 - accuracy: 0.9548 - val_loss: 0.2796 - val_accuracy: 0.9656\n",
            "Epoch 3/5\n",
            "360/360 [==============================] - 9s 25ms/step - loss: 0.2709 - accuracy: 0.9709 - val_loss: 0.2980 - val_accuracy: 0.9563\n",
            "Epoch 4/5\n",
            "360/360 [==============================] - 9s 25ms/step - loss: 0.2711 - accuracy: 0.9708 - val_loss: 0.2825 - val_accuracy: 0.9656\n",
            "Epoch 5/5\n",
            "360/360 [==============================] - 9s 25ms/step - loss: 0.2511 - accuracy: 0.9804 - val_loss: 0.2768 - val_accuracy: 0.9677\n"
          ],
          "name": "stdout"
        }
      ]
    },
    {
      "cell_type": "code",
      "metadata": {
        "id": "WSytQOnUb0z9"
      },
      "source": [
        "export_smooth_model = export_model(smooth_model)\n",
        "smooth_accuracy,smooth_tweet_accuracy = runEvaluation(export_smooth_model)"
      ],
      "id": "WSytQOnUb0z9",
      "execution_count": 59,
      "outputs": []
    },
    {
      "cell_type": "code",
      "metadata": {
        "colab": {
          "base_uri": "https://localhost:8080/"
        },
        "id": "XgaAqwVMb65I",
        "outputId": "d894b0cc-1e4f-413a-a51d-1d7d07980f25"
      },
      "source": [
        "print('same dataset evaluation accuracy:')\n",
        "print(smooth_accuracy)\n",
        "print('twitter dataset evaluation accuracy:')\n",
        "print(smooth_tweet_accuracy)"
      ],
      "id": "XgaAqwVMb65I",
      "execution_count": 60,
      "outputs": [
        {
          "output_type": "stream",
          "text": [
            "same dataset evaluation accuracy:\n",
            "0.9725\n",
            "twitter dataset evaluation accuracy:\n",
            "0.5358\n"
          ],
          "name": "stdout"
        }
      ]
    },
    {
      "cell_type": "markdown",
      "metadata": {
        "id": "lUAlqZEnWHUn"
      },
      "source": [
        "## Model Tuning"
      ],
      "id": "lUAlqZEnWHUn"
    },
    {
      "cell_type": "markdown",
      "metadata": {
        "id": "22iO1oZ3cgYP"
      },
      "source": [
        "### See How Addition of Batch Norm Works"
      ],
      "id": "22iO1oZ3cgYP"
    },
    {
      "cell_type": "code",
      "metadata": {
        "id": "R2x53bgyWI_W"
      },
      "source": [
        "def BERT_champion_nn(dropout=0.1):\n",
        "    text_input = tf.keras.layers.Input(shape=(), dtype=tf.string, name='text')\n",
        "    preprocessing_layer = hub.KerasLayer(tfhub_handle_preprocess, name='preprocessing')\n",
        "    encoder_inputs = preprocessing_layer(text_input)\n",
        "    encoder = hub.KerasLayer(tfhub_handle_encoder, trainable=True, name='BERT_encoder')\n",
        "    outputs = encoder(encoder_inputs)\n",
        "    net = outputs['pooled_output']\n",
        "    net = tf.keras.layers.Dropout(dropout)(net)\n",
        "    net = tf.keras.layers.BatchNormalization()(net)\n",
        "    net = tf.keras.layers.Dense(1,activation='sigmoid')(net)\n",
        "    return tf.keras.Model(text_input, net)\n"
      ],
      "id": "R2x53bgyWI_W",
      "execution_count": 67,
      "outputs": []
    },
    {
      "cell_type": "code",
      "metadata": {
        "colab": {
          "base_uri": "https://localhost:8080/"
        },
        "id": "bbOuDF1pZntG",
        "outputId": "c5ebc646-1879-4e36-ad10-3857a683a451"
      },
      "source": [
        "bert_model = BERT_champion_nn()\n",
        "loss = tf.keras.losses.BinaryCrossentropy(from_logits=True)\n",
        "metrics = tf.metrics.BinaryAccuracy()\n",
        "epochs = 3\n",
        "steps_per_epoch = tf.data.experimental.cardinality(train_ds).numpy()\n",
        "num_train_steps = steps_per_epoch * epochs\n",
        "num_warmup_steps = int(0.1*num_train_steps)\n",
        "\n",
        "init_lr = 3e-5\n",
        "optimizer = optimization.create_optimizer(init_lr=init_lr,\n",
        "                                          num_train_steps=num_train_steps,\n",
        "                                          num_warmup_steps=num_warmup_steps,\n",
        "                                          optimizer_type='adamw')\n",
        "bert_model.compile(optimizer=optimizer,\n",
        "                         loss=loss,\n",
        "                         metrics=metrics)\n",
        "history = bert_model.fit(\n",
        "    raw_train_ds,\n",
        "    validation_data=raw_val_ds,\n",
        "    epochs=epochs)"
      ],
      "id": "bbOuDF1pZntG",
      "execution_count": 65,
      "outputs": [
        {
          "output_type": "stream",
          "text": [
            "WARNING:tensorflow:8 out of the last 8 calls to <function recreate_function.<locals>.restored_function_body at 0x7fe0b4918950> triggered tf.function retracing. Tracing is expensive and the excessive number of tracings could be due to (1) creating @tf.function repeatedly in a loop, (2) passing tensors with different shapes, (3) passing Python objects instead of tensors. For (1), please define your @tf.function outside of the loop. For (2), @tf.function has experimental_relax_shapes=True option that relaxes argument shapes that can avoid unnecessary retracing. For (3), please refer to https://www.tensorflow.org/guide/function#controlling_retracing and https://www.tensorflow.org/api_docs/python/tf/function for  more details.\n"
          ],
          "name": "stdout"
        },
        {
          "output_type": "stream",
          "text": [
            "WARNING:tensorflow:8 out of the last 8 calls to <function recreate_function.<locals>.restored_function_body at 0x7fe0b4918950> triggered tf.function retracing. Tracing is expensive and the excessive number of tracings could be due to (1) creating @tf.function repeatedly in a loop, (2) passing tensors with different shapes, (3) passing Python objects instead of tensors. For (1), please define your @tf.function outside of the loop. For (2), @tf.function has experimental_relax_shapes=True option that relaxes argument shapes that can avoid unnecessary retracing. For (3), please refer to https://www.tensorflow.org/guide/function#controlling_retracing and https://www.tensorflow.org/api_docs/python/tf/function for  more details.\n"
          ],
          "name": "stderr"
        },
        {
          "output_type": "stream",
          "text": [
            "WARNING:tensorflow:9 out of the last 9 calls to <function recreate_function.<locals>.restored_function_body at 0x7fe0b4916050> triggered tf.function retracing. Tracing is expensive and the excessive number of tracings could be due to (1) creating @tf.function repeatedly in a loop, (2) passing tensors with different shapes, (3) passing Python objects instead of tensors. For (1), please define your @tf.function outside of the loop. For (2), @tf.function has experimental_relax_shapes=True option that relaxes argument shapes that can avoid unnecessary retracing. For (3), please refer to https://www.tensorflow.org/guide/function#controlling_retracing and https://www.tensorflow.org/api_docs/python/tf/function for  more details.\n"
          ],
          "name": "stdout"
        },
        {
          "output_type": "stream",
          "text": [
            "WARNING:tensorflow:9 out of the last 9 calls to <function recreate_function.<locals>.restored_function_body at 0x7fe0b4916050> triggered tf.function retracing. Tracing is expensive and the excessive number of tracings could be due to (1) creating @tf.function repeatedly in a loop, (2) passing tensors with different shapes, (3) passing Python objects instead of tensors. For (1), please define your @tf.function outside of the loop. For (2), @tf.function has experimental_relax_shapes=True option that relaxes argument shapes that can avoid unnecessary retracing. For (3), please refer to https://www.tensorflow.org/guide/function#controlling_retracing and https://www.tensorflow.org/api_docs/python/tf/function for  more details.\n"
          ],
          "name": "stderr"
        },
        {
          "output_type": "stream",
          "text": [
            "Epoch 1/3\n",
            "360/360 [==============================] - 145s 389ms/step - loss: 0.3221 - binary_accuracy: 0.8371 - val_loss: 0.0518 - val_binary_accuracy: 0.9833\n",
            "Epoch 2/3\n",
            "360/360 [==============================] - 139s 387ms/step - loss: 0.0458 - binary_accuracy: 0.9828 - val_loss: 0.0489 - val_binary_accuracy: 0.9849\n",
            "Epoch 3/3\n",
            "360/360 [==============================] - 140s 388ms/step - loss: 0.0263 - binary_accuracy: 0.9911 - val_loss: 0.0500 - val_binary_accuracy: 0.9865\n"
          ],
          "name": "stdout"
        }
      ]
    },
    {
      "cell_type": "code",
      "metadata": {
        "colab": {
          "base_uri": "https://localhost:8080/"
        },
        "id": "nd2egev2cSHb",
        "outputId": "6934d163-5b01-4dd5-ade4-19de2330fd10"
      },
      "source": [
        "bert_accuracy,bert_tweet_accuracy = runEvaluation(bert_model)\n",
        "print('same dataset evaluation accuracy:')\n",
        "print(bert_accuracy)\n",
        "print('twitter dataset evaluation accuracy:')\n",
        "print(bert_tweet_accuracy)"
      ],
      "id": "nd2egev2cSHb",
      "execution_count": 66,
      "outputs": [
        {
          "output_type": "stream",
          "text": [
            "same dataset evaluation accuracy:\n",
            "0.9890625\n",
            "twitter dataset evaluation accuracy:\n",
            "0.6581\n"
          ],
          "name": "stdout"
        }
      ]
    },
    {
      "cell_type": "markdown",
      "metadata": {
        "id": "kmG8piv4ck8g"
      },
      "source": [
        "### Dropout level fine-tuning"
      ],
      "id": "kmG8piv4ck8g"
    },
    {
      "cell_type": "code",
      "metadata": {
        "colab": {
          "base_uri": "https://localhost:8080/"
        },
        "id": "iJjQyca6cmjh",
        "outputId": "e10e8711-6a36-4504-f84f-6aedba04147b"
      },
      "source": [
        "# Lets try choose the right dropout amount\n",
        "dropouts = [0.1,0.3,0.5]\n",
        "val_accuracies=[]\n",
        "for dropout in dropouts:\n",
        "  bert_model = BERT_champion_nn(dropout)\n",
        "  optimizer = optimization.create_optimizer(init_lr=init_lr,\n",
        "                                            num_train_steps=num_train_steps,\n",
        "                                            num_warmup_steps=num_warmup_steps,\n",
        "                                            optimizer_type='adamw')\n",
        "  bert_model.compile(optimizer=optimizer,\n",
        "                          loss=loss,\n",
        "                          metrics=metrics)\n",
        "  history = bert_model.fit(\n",
        "      raw_train_ds,\n",
        "      validation_data=raw_val_ds,\n",
        "      epochs=epochs)\n",
        "  print(f'dropout {dropout}: done.')\n",
        "  val_accuracies.append(history.history['val_binary_accuracy'])"
      ],
      "id": "iJjQyca6cmjh",
      "execution_count": 76,
      "outputs": [
        {
          "output_type": "stream",
          "text": [
            "WARNING:tensorflow:11 out of the last 11 calls to <function recreate_function.<locals>.restored_function_body at 0x7fdf9caabb00> triggered tf.function retracing. Tracing is expensive and the excessive number of tracings could be due to (1) creating @tf.function repeatedly in a loop, (2) passing tensors with different shapes, (3) passing Python objects instead of tensors. For (1), please define your @tf.function outside of the loop. For (2), @tf.function has experimental_relax_shapes=True option that relaxes argument shapes that can avoid unnecessary retracing. For (3), please refer to https://www.tensorflow.org/guide/function#controlling_retracing and https://www.tensorflow.org/api_docs/python/tf/function for  more details.\n"
          ],
          "name": "stdout"
        },
        {
          "output_type": "stream",
          "text": [
            "WARNING:tensorflow:11 out of the last 11 calls to <function recreate_function.<locals>.restored_function_body at 0x7fdf9caabb00> triggered tf.function retracing. Tracing is expensive and the excessive number of tracings could be due to (1) creating @tf.function repeatedly in a loop, (2) passing tensors with different shapes, (3) passing Python objects instead of tensors. For (1), please define your @tf.function outside of the loop. For (2), @tf.function has experimental_relax_shapes=True option that relaxes argument shapes that can avoid unnecessary retracing. For (3), please refer to https://www.tensorflow.org/guide/function#controlling_retracing and https://www.tensorflow.org/api_docs/python/tf/function for  more details.\n"
          ],
          "name": "stderr"
        },
        {
          "output_type": "stream",
          "text": [
            "WARNING:tensorflow:11 out of the last 11 calls to <function recreate_function.<locals>.restored_function_body at 0x7fdf9caab290> triggered tf.function retracing. Tracing is expensive and the excessive number of tracings could be due to (1) creating @tf.function repeatedly in a loop, (2) passing tensors with different shapes, (3) passing Python objects instead of tensors. For (1), please define your @tf.function outside of the loop. For (2), @tf.function has experimental_relax_shapes=True option that relaxes argument shapes that can avoid unnecessary retracing. For (3), please refer to https://www.tensorflow.org/guide/function#controlling_retracing and https://www.tensorflow.org/api_docs/python/tf/function for  more details.\n"
          ],
          "name": "stdout"
        },
        {
          "output_type": "stream",
          "text": [
            "WARNING:tensorflow:11 out of the last 11 calls to <function recreate_function.<locals>.restored_function_body at 0x7fdf9caab290> triggered tf.function retracing. Tracing is expensive and the excessive number of tracings could be due to (1) creating @tf.function repeatedly in a loop, (2) passing tensors with different shapes, (3) passing Python objects instead of tensors. For (1), please define your @tf.function outside of the loop. For (2), @tf.function has experimental_relax_shapes=True option that relaxes argument shapes that can avoid unnecessary retracing. For (3), please refer to https://www.tensorflow.org/guide/function#controlling_retracing and https://www.tensorflow.org/api_docs/python/tf/function for  more details.\n"
          ],
          "name": "stderr"
        },
        {
          "output_type": "stream",
          "text": [
            "WARNING:tensorflow:11 out of the last 11 calls to <function recreate_function.<locals>.restored_function_body at 0x7fe0bc84e680> triggered tf.function retracing. Tracing is expensive and the excessive number of tracings could be due to (1) creating @tf.function repeatedly in a loop, (2) passing tensors with different shapes, (3) passing Python objects instead of tensors. For (1), please define your @tf.function outside of the loop. For (2), @tf.function has experimental_relax_shapes=True option that relaxes argument shapes that can avoid unnecessary retracing. For (3), please refer to https://www.tensorflow.org/guide/function#controlling_retracing and https://www.tensorflow.org/api_docs/python/tf/function for  more details.\n"
          ],
          "name": "stdout"
        },
        {
          "output_type": "stream",
          "text": [
            "WARNING:tensorflow:11 out of the last 11 calls to <function recreate_function.<locals>.restored_function_body at 0x7fe0bc84e680> triggered tf.function retracing. Tracing is expensive and the excessive number of tracings could be due to (1) creating @tf.function repeatedly in a loop, (2) passing tensors with different shapes, (3) passing Python objects instead of tensors. For (1), please define your @tf.function outside of the loop. For (2), @tf.function has experimental_relax_shapes=True option that relaxes argument shapes that can avoid unnecessary retracing. For (3), please refer to https://www.tensorflow.org/guide/function#controlling_retracing and https://www.tensorflow.org/api_docs/python/tf/function for  more details.\n"
          ],
          "name": "stderr"
        },
        {
          "output_type": "stream",
          "text": [
            "Epoch 1/3\n",
            "360/360 [==============================] - 163s 438ms/step - loss: 0.3687 - binary_accuracy: 0.9113 - val_loss: 0.0607 - val_binary_accuracy: 0.9809\n",
            "Epoch 2/3\n",
            "360/360 [==============================] - 157s 435ms/step - loss: 0.0495 - binary_accuracy: 0.9837 - val_loss: 0.0535 - val_binary_accuracy: 0.9847\n",
            "Epoch 3/3\n",
            "360/360 [==============================] - 157s 435ms/step - loss: 0.0243 - binary_accuracy: 0.9926 - val_loss: 0.0556 - val_binary_accuracy: 0.9852\n",
            "dropout 0.1: done.\n",
            "WARNING:tensorflow:11 out of the last 11 calls to <function recreate_function.<locals>.restored_function_body at 0x7fdfa3370320> triggered tf.function retracing. Tracing is expensive and the excessive number of tracings could be due to (1) creating @tf.function repeatedly in a loop, (2) passing tensors with different shapes, (3) passing Python objects instead of tensors. For (1), please define your @tf.function outside of the loop. For (2), @tf.function has experimental_relax_shapes=True option that relaxes argument shapes that can avoid unnecessary retracing. For (3), please refer to https://www.tensorflow.org/guide/function#controlling_retracing and https://www.tensorflow.org/api_docs/python/tf/function for  more details.\n"
          ],
          "name": "stdout"
        },
        {
          "output_type": "stream",
          "text": [
            "WARNING:tensorflow:11 out of the last 11 calls to <function recreate_function.<locals>.restored_function_body at 0x7fdfa3370320> triggered tf.function retracing. Tracing is expensive and the excessive number of tracings could be due to (1) creating @tf.function repeatedly in a loop, (2) passing tensors with different shapes, (3) passing Python objects instead of tensors. For (1), please define your @tf.function outside of the loop. For (2), @tf.function has experimental_relax_shapes=True option that relaxes argument shapes that can avoid unnecessary retracing. For (3), please refer to https://www.tensorflow.org/guide/function#controlling_retracing and https://www.tensorflow.org/api_docs/python/tf/function for  more details.\n"
          ],
          "name": "stderr"
        },
        {
          "output_type": "stream",
          "text": [
            "WARNING:tensorflow:11 out of the last 11 calls to <function recreate_function.<locals>.restored_function_body at 0x7fdfa4d4e050> triggered tf.function retracing. Tracing is expensive and the excessive number of tracings could be due to (1) creating @tf.function repeatedly in a loop, (2) passing tensors with different shapes, (3) passing Python objects instead of tensors. For (1), please define your @tf.function outside of the loop. For (2), @tf.function has experimental_relax_shapes=True option that relaxes argument shapes that can avoid unnecessary retracing. For (3), please refer to https://www.tensorflow.org/guide/function#controlling_retracing and https://www.tensorflow.org/api_docs/python/tf/function for  more details.\n"
          ],
          "name": "stdout"
        },
        {
          "output_type": "stream",
          "text": [
            "WARNING:tensorflow:11 out of the last 11 calls to <function recreate_function.<locals>.restored_function_body at 0x7fdfa4d4e050> triggered tf.function retracing. Tracing is expensive and the excessive number of tracings could be due to (1) creating @tf.function repeatedly in a loop, (2) passing tensors with different shapes, (3) passing Python objects instead of tensors. For (1), please define your @tf.function outside of the loop. For (2), @tf.function has experimental_relax_shapes=True option that relaxes argument shapes that can avoid unnecessary retracing. For (3), please refer to https://www.tensorflow.org/guide/function#controlling_retracing and https://www.tensorflow.org/api_docs/python/tf/function for  more details.\n"
          ],
          "name": "stderr"
        },
        {
          "output_type": "stream",
          "text": [
            "WARNING:tensorflow:11 out of the last 11 calls to <function recreate_function.<locals>.restored_function_body at 0x7fdf9bad28c0> triggered tf.function retracing. Tracing is expensive and the excessive number of tracings could be due to (1) creating @tf.function repeatedly in a loop, (2) passing tensors with different shapes, (3) passing Python objects instead of tensors. For (1), please define your @tf.function outside of the loop. For (2), @tf.function has experimental_relax_shapes=True option that relaxes argument shapes that can avoid unnecessary retracing. For (3), please refer to https://www.tensorflow.org/guide/function#controlling_retracing and https://www.tensorflow.org/api_docs/python/tf/function for  more details.\n"
          ],
          "name": "stdout"
        },
        {
          "output_type": "stream",
          "text": [
            "WARNING:tensorflow:11 out of the last 11 calls to <function recreate_function.<locals>.restored_function_body at 0x7fdf9bad28c0> triggered tf.function retracing. Tracing is expensive and the excessive number of tracings could be due to (1) creating @tf.function repeatedly in a loop, (2) passing tensors with different shapes, (3) passing Python objects instead of tensors. For (1), please define your @tf.function outside of the loop. For (2), @tf.function has experimental_relax_shapes=True option that relaxes argument shapes that can avoid unnecessary retracing. For (3), please refer to https://www.tensorflow.org/guide/function#controlling_retracing and https://www.tensorflow.org/api_docs/python/tf/function for  more details.\n"
          ],
          "name": "stderr"
        },
        {
          "output_type": "stream",
          "text": [
            "Epoch 1/3\n",
            "360/360 [==============================] - 150s 391ms/step - loss: 0.2819 - binary_accuracy: 0.9317 - val_loss: 0.0733 - val_binary_accuracy: 0.9753\n",
            "Epoch 2/3\n",
            "360/360 [==============================] - 142s 393ms/step - loss: 0.0493 - binary_accuracy: 0.9826 - val_loss: 0.0552 - val_binary_accuracy: 0.9845\n",
            "Epoch 3/3\n",
            "360/360 [==============================] - 142s 394ms/step - loss: 0.0268 - binary_accuracy: 0.9914 - val_loss: 0.0571 - val_binary_accuracy: 0.9847\n",
            "dropout 0.3: done.\n",
            "WARNING:tensorflow:11 out of the last 11 calls to <function recreate_function.<locals>.restored_function_body at 0x7fe0b53dcb00> triggered tf.function retracing. Tracing is expensive and the excessive number of tracings could be due to (1) creating @tf.function repeatedly in a loop, (2) passing tensors with different shapes, (3) passing Python objects instead of tensors. For (1), please define your @tf.function outside of the loop. For (2), @tf.function has experimental_relax_shapes=True option that relaxes argument shapes that can avoid unnecessary retracing. For (3), please refer to https://www.tensorflow.org/guide/function#controlling_retracing and https://www.tensorflow.org/api_docs/python/tf/function for  more details.\n"
          ],
          "name": "stdout"
        },
        {
          "output_type": "stream",
          "text": [
            "WARNING:tensorflow:11 out of the last 11 calls to <function recreate_function.<locals>.restored_function_body at 0x7fe0b53dcb00> triggered tf.function retracing. Tracing is expensive and the excessive number of tracings could be due to (1) creating @tf.function repeatedly in a loop, (2) passing tensors with different shapes, (3) passing Python objects instead of tensors. For (1), please define your @tf.function outside of the loop. For (2), @tf.function has experimental_relax_shapes=True option that relaxes argument shapes that can avoid unnecessary retracing. For (3), please refer to https://www.tensorflow.org/guide/function#controlling_retracing and https://www.tensorflow.org/api_docs/python/tf/function for  more details.\n"
          ],
          "name": "stderr"
        },
        {
          "output_type": "stream",
          "text": [
            "WARNING:tensorflow:11 out of the last 11 calls to <function recreate_function.<locals>.restored_function_body at 0x7fe0b53dc050> triggered tf.function retracing. Tracing is expensive and the excessive number of tracings could be due to (1) creating @tf.function repeatedly in a loop, (2) passing tensors with different shapes, (3) passing Python objects instead of tensors. For (1), please define your @tf.function outside of the loop. For (2), @tf.function has experimental_relax_shapes=True option that relaxes argument shapes that can avoid unnecessary retracing. For (3), please refer to https://www.tensorflow.org/guide/function#controlling_retracing and https://www.tensorflow.org/api_docs/python/tf/function for  more details.\n"
          ],
          "name": "stdout"
        },
        {
          "output_type": "stream",
          "text": [
            "WARNING:tensorflow:11 out of the last 11 calls to <function recreate_function.<locals>.restored_function_body at 0x7fe0b53dc050> triggered tf.function retracing. Tracing is expensive and the excessive number of tracings could be due to (1) creating @tf.function repeatedly in a loop, (2) passing tensors with different shapes, (3) passing Python objects instead of tensors. For (1), please define your @tf.function outside of the loop. For (2), @tf.function has experimental_relax_shapes=True option that relaxes argument shapes that can avoid unnecessary retracing. For (3), please refer to https://www.tensorflow.org/guide/function#controlling_retracing and https://www.tensorflow.org/api_docs/python/tf/function for  more details.\n"
          ],
          "name": "stderr"
        },
        {
          "output_type": "stream",
          "text": [
            "Epoch 1/3\n",
            "WARNING:tensorflow:11 out of the last 11 calls to <function recreate_function.<locals>.restored_function_body at 0x7fdf9caa2dd0> triggered tf.function retracing. Tracing is expensive and the excessive number of tracings could be due to (1) creating @tf.function repeatedly in a loop, (2) passing tensors with different shapes, (3) passing Python objects instead of tensors. For (1), please define your @tf.function outside of the loop. For (2), @tf.function has experimental_relax_shapes=True option that relaxes argument shapes that can avoid unnecessary retracing. For (3), please refer to https://www.tensorflow.org/guide/function#controlling_retracing and https://www.tensorflow.org/api_docs/python/tf/function for  more details.\n"
          ],
          "name": "stdout"
        },
        {
          "output_type": "stream",
          "text": [
            "WARNING:tensorflow:11 out of the last 11 calls to <function recreate_function.<locals>.restored_function_body at 0x7fdf9caa2dd0> triggered tf.function retracing. Tracing is expensive and the excessive number of tracings could be due to (1) creating @tf.function repeatedly in a loop, (2) passing tensors with different shapes, (3) passing Python objects instead of tensors. For (1), please define your @tf.function outside of the loop. For (2), @tf.function has experimental_relax_shapes=True option that relaxes argument shapes that can avoid unnecessary retracing. For (3), please refer to https://www.tensorflow.org/guide/function#controlling_retracing and https://www.tensorflow.org/api_docs/python/tf/function for  more details.\n"
          ],
          "name": "stderr"
        },
        {
          "output_type": "stream",
          "text": [
            "360/360 [==============================] - 147s 391ms/step - loss: 0.3430 - binary_accuracy: 0.9129 - val_loss: 0.0591 - val_binary_accuracy: 0.9821\n",
            "Epoch 2/3\n",
            "360/360 [==============================] - 140s 388ms/step - loss: 0.0532 - binary_accuracy: 0.9816 - val_loss: 0.0596 - val_binary_accuracy: 0.9837\n",
            "Epoch 3/3\n",
            "360/360 [==============================] - 141s 390ms/step - loss: 0.0299 - binary_accuracy: 0.9912 - val_loss: 0.0582 - val_binary_accuracy: 0.9847\n",
            "dropout 0.5: done.\n"
          ],
          "name": "stdout"
        }
      ]
    },
    {
      "cell_type": "code",
      "metadata": {
        "colab": {
          "base_uri": "https://localhost:8080/",
          "height": 295
        },
        "id": "qikhrnHZeG_3",
        "outputId": "4c737357-850c-49b9-8582-c5ecffb7b8ff"
      },
      "source": [
        "# Plot validation Loss vs. Epoch\n",
        "for val_accuracy,dropout in zip(val_accuracies,dropouts):    \n",
        "    plt.plot(range(1,4),val_accuracy,label=f'{dropout} dropout')\n",
        "plt.title('Validation Accuracy vs. Epoch')\n",
        "plt.ylabel('Validation Accuracy')\n",
        "plt.xlabel('Epoch')\n",
        "x1,x2,y1,y2 = plt.axis()\n",
        "plt.legend()\n",
        "plt.show() "
      ],
      "id": "qikhrnHZeG_3",
      "execution_count": 78,
      "outputs": [
        {
          "output_type": "display_data",
          "data": {
            "image/png": "[encoded data removed]",
            "text/plain": [
              "<Figure size 432x288 with 1 Axes>"
            ]
          },
          "metadata": {
            "tags": [],
            "needs_background": "light"
          }
        }
      ]
    },
    {
      "cell_type": "markdown",
      "metadata": {
        "id": "KfE9a0cCdZ13"
      },
      "source": [
        "### Initial Learning Rate Fine-tuning"
      ],
      "id": "KfE9a0cCdZ13"
    },
    {
      "cell_type": "code",
      "metadata": {
        "colab": {
          "base_uri": "https://localhost:8080/"
        },
        "id": "jTt-FnqSdezo",
        "outputId": "b7435f14-d25a-4113-b2ee-1a85640e77f6"
      },
      "source": [
        "# Lets try choose the right dropout amount\n",
        "#https://www.tensorflow.org/tutorials/text/classify_text_with_bert#choose_a_bert_model_to_fine-tune\n",
        "learningRates = [5e-5,3e-5,2e-5]\n",
        "val_accuracies=[]\n",
        "for learningRate in learningRates:\n",
        "  bert_model = BERT_champion_nn(0.1)\n",
        "  optimizer = optimization.create_optimizer(init_lr=learningRate,\n",
        "                                            num_train_steps=num_train_steps,\n",
        "                                            num_warmup_steps=num_warmup_steps,\n",
        "                                            optimizer_type='adamw')\n",
        "  bert_model.compile(optimizer=optimizer,\n",
        "                          loss=loss,\n",
        "                          metrics=metrics)\n",
        "  history = bert_model.fit(\n",
        "      raw_train_ds,\n",
        "      validation_data=raw_val_ds,\n",
        "      epochs=epochs)\n",
        "  print(f'Learning Rate {learningRate}: done.')\n",
        "  val_accuracies.append(history.history['val_binary_accuracy'])"
      ],
      "id": "jTt-FnqSdezo",
      "execution_count": 79,
      "outputs": [
        {
          "output_type": "stream",
          "text": [
            "WARNING:tensorflow:11 out of the last 11 calls to <function recreate_function.<locals>.restored_function_body at 0x7fdfa4873950> triggered tf.function retracing. Tracing is expensive and the excessive number of tracings could be due to (1) creating @tf.function repeatedly in a loop, (2) passing tensors with different shapes, (3) passing Python objects instead of tensors. For (1), please define your @tf.function outside of the loop. For (2), @tf.function has experimental_relax_shapes=True option that relaxes argument shapes that can avoid unnecessary retracing. For (3), please refer to https://www.tensorflow.org/guide/function#controlling_retracing and https://www.tensorflow.org/api_docs/python/tf/function for  more details.\n"
          ],
          "name": "stdout"
        },
        {
          "output_type": "stream",
          "text": [
            "WARNING:tensorflow:11 out of the last 11 calls to <function recreate_function.<locals>.restored_function_body at 0x7fdfa4873950> triggered tf.function retracing. Tracing is expensive and the excessive number of tracings could be due to (1) creating @tf.function repeatedly in a loop, (2) passing tensors with different shapes, (3) passing Python objects instead of tensors. For (1), please define your @tf.function outside of the loop. For (2), @tf.function has experimental_relax_shapes=True option that relaxes argument shapes that can avoid unnecessary retracing. For (3), please refer to https://www.tensorflow.org/guide/function#controlling_retracing and https://www.tensorflow.org/api_docs/python/tf/function for  more details.\n"
          ],
          "name": "stderr"
        },
        {
          "output_type": "stream",
          "text": [
            "WARNING:tensorflow:11 out of the last 11 calls to <function recreate_function.<locals>.restored_function_body at 0x7fdfb4307050> triggered tf.function retracing. Tracing is expensive and the excessive number of tracings could be due to (1) creating @tf.function repeatedly in a loop, (2) passing tensors with different shapes, (3) passing Python objects instead of tensors. For (1), please define your @tf.function outside of the loop. For (2), @tf.function has experimental_relax_shapes=True option that relaxes argument shapes that can avoid unnecessary retracing. For (3), please refer to https://www.tensorflow.org/guide/function#controlling_retracing and https://www.tensorflow.org/api_docs/python/tf/function for  more details.\n"
          ],
          "name": "stdout"
        },
        {
          "output_type": "stream",
          "text": [
            "WARNING:tensorflow:11 out of the last 11 calls to <function recreate_function.<locals>.restored_function_body at 0x7fdfb4307050> triggered tf.function retracing. Tracing is expensive and the excessive number of tracings could be due to (1) creating @tf.function repeatedly in a loop, (2) passing tensors with different shapes, (3) passing Python objects instead of tensors. For (1), please define your @tf.function outside of the loop. For (2), @tf.function has experimental_relax_shapes=True option that relaxes argument shapes that can avoid unnecessary retracing. For (3), please refer to https://www.tensorflow.org/guide/function#controlling_retracing and https://www.tensorflow.org/api_docs/python/tf/function for  more details.\n"
          ],
          "name": "stderr"
        },
        {
          "output_type": "stream",
          "text": [
            "WARNING:tensorflow:11 out of the last 11 calls to <function recreate_function.<locals>.restored_function_body at 0x7fdf9afa55f0> triggered tf.function retracing. Tracing is expensive and the excessive number of tracings could be due to (1) creating @tf.function repeatedly in a loop, (2) passing tensors with different shapes, (3) passing Python objects instead of tensors. For (1), please define your @tf.function outside of the loop. For (2), @tf.function has experimental_relax_shapes=True option that relaxes argument shapes that can avoid unnecessary retracing. For (3), please refer to https://www.tensorflow.org/guide/function#controlling_retracing and https://www.tensorflow.org/api_docs/python/tf/function for  more details.\n"
          ],
          "name": "stdout"
        },
        {
          "output_type": "stream",
          "text": [
            "WARNING:tensorflow:11 out of the last 11 calls to <function recreate_function.<locals>.restored_function_body at 0x7fdf9afa55f0> triggered tf.function retracing. Tracing is expensive and the excessive number of tracings could be due to (1) creating @tf.function repeatedly in a loop, (2) passing tensors with different shapes, (3) passing Python objects instead of tensors. For (1), please define your @tf.function outside of the loop. For (2), @tf.function has experimental_relax_shapes=True option that relaxes argument shapes that can avoid unnecessary retracing. For (3), please refer to https://www.tensorflow.org/guide/function#controlling_retracing and https://www.tensorflow.org/api_docs/python/tf/function for  more details.\n"
          ],
          "name": "stderr"
        },
        {
          "output_type": "stream",
          "text": [
            "Epoch 1/3\n",
            "360/360 [==============================] - 147s 391ms/step - loss: 0.2693 - binary_accuracy: 0.9336 - val_loss: 0.0608 - val_binary_accuracy: 0.9802\n",
            "Epoch 2/3\n",
            "360/360 [==============================] - 141s 393ms/step - loss: 0.0393 - binary_accuracy: 0.9871 - val_loss: 0.0545 - val_binary_accuracy: 0.9856\n",
            "Epoch 3/3\n",
            "360/360 [==============================] - 142s 393ms/step - loss: 0.0171 - binary_accuracy: 0.9949 - val_loss: 0.0590 - val_binary_accuracy: 0.9852\n",
            "Learning Rate 5e-05: done.\n",
            "WARNING:tensorflow:11 out of the last 11 calls to <function recreate_function.<locals>.restored_function_body at 0x7fdfa1b85b00> triggered tf.function retracing. Tracing is expensive and the excessive number of tracings could be due to (1) creating @tf.function repeatedly in a loop, (2) passing tensors with different shapes, (3) passing Python objects instead of tensors. For (1), please define your @tf.function outside of the loop. For (2), @tf.function has experimental_relax_shapes=True option that relaxes argument shapes that can avoid unnecessary retracing. For (3), please refer to https://www.tensorflow.org/guide/function#controlling_retracing and https://www.tensorflow.org/api_docs/python/tf/function for  more details.\n"
          ],
          "name": "stdout"
        },
        {
          "output_type": "stream",
          "text": [
            "WARNING:tensorflow:11 out of the last 11 calls to <function recreate_function.<locals>.restored_function_body at 0x7fdfa1b85b00> triggered tf.function retracing. Tracing is expensive and the excessive number of tracings could be due to (1) creating @tf.function repeatedly in a loop, (2) passing tensors with different shapes, (3) passing Python objects instead of tensors. For (1), please define your @tf.function outside of the loop. For (2), @tf.function has experimental_relax_shapes=True option that relaxes argument shapes that can avoid unnecessary retracing. For (3), please refer to https://www.tensorflow.org/guide/function#controlling_retracing and https://www.tensorflow.org/api_docs/python/tf/function for  more details.\n"
          ],
          "name": "stderr"
        },
        {
          "output_type": "stream",
          "text": [
            "WARNING:tensorflow:11 out of the last 11 calls to <function recreate_function.<locals>.restored_function_body at 0x7fdfa1b81200> triggered tf.function retracing. Tracing is expensive and the excessive number of tracings could be due to (1) creating @tf.function repeatedly in a loop, (2) passing tensors with different shapes, (3) passing Python objects instead of tensors. For (1), please define your @tf.function outside of the loop. For (2), @tf.function has experimental_relax_shapes=True option that relaxes argument shapes that can avoid unnecessary retracing. For (3), please refer to https://www.tensorflow.org/guide/function#controlling_retracing and https://www.tensorflow.org/api_docs/python/tf/function for  more details.\n"
          ],
          "name": "stdout"
        },
        {
          "output_type": "stream",
          "text": [
            "WARNING:tensorflow:11 out of the last 11 calls to <function recreate_function.<locals>.restored_function_body at 0x7fdfa1b81200> triggered tf.function retracing. Tracing is expensive and the excessive number of tracings could be due to (1) creating @tf.function repeatedly in a loop, (2) passing tensors with different shapes, (3) passing Python objects instead of tensors. For (1), please define your @tf.function outside of the loop. For (2), @tf.function has experimental_relax_shapes=True option that relaxes argument shapes that can avoid unnecessary retracing. For (3), please refer to https://www.tensorflow.org/guide/function#controlling_retracing and https://www.tensorflow.org/api_docs/python/tf/function for  more details.\n"
          ],
          "name": "stderr"
        },
        {
          "output_type": "stream",
          "text": [
            "WARNING:tensorflow:11 out of the last 11 calls to <function recreate_function.<locals>.restored_function_body at 0x7fdfaebc7b90> triggered tf.function retracing. Tracing is expensive and the excessive number of tracings could be due to (1) creating @tf.function repeatedly in a loop, (2) passing tensors with different shapes, (3) passing Python objects instead of tensors. For (1), please define your @tf.function outside of the loop. For (2), @tf.function has experimental_relax_shapes=True option that relaxes argument shapes that can avoid unnecessary retracing. For (3), please refer to https://www.tensorflow.org/guide/function#controlling_retracing and https://www.tensorflow.org/api_docs/python/tf/function for  more details.\n"
          ],
          "name": "stdout"
        },
        {
          "output_type": "stream",
          "text": [
            "WARNING:tensorflow:11 out of the last 11 calls to <function recreate_function.<locals>.restored_function_body at 0x7fdfaebc7b90> triggered tf.function retracing. Tracing is expensive and the excessive number of tracings could be due to (1) creating @tf.function repeatedly in a loop, (2) passing tensors with different shapes, (3) passing Python objects instead of tensors. For (1), please define your @tf.function outside of the loop. For (2), @tf.function has experimental_relax_shapes=True option that relaxes argument shapes that can avoid unnecessary retracing. For (3), please refer to https://www.tensorflow.org/guide/function#controlling_retracing and https://www.tensorflow.org/api_docs/python/tf/function for  more details.\n"
          ],
          "name": "stderr"
        },
        {
          "output_type": "stream",
          "text": [
            "Epoch 1/3\n",
            "360/360 [==============================] - 148s 396ms/step - loss: 0.2907 - binary_accuracy: 0.9292 - val_loss: 0.0540 - val_binary_accuracy: 0.9833\n",
            "Epoch 2/3\n",
            "360/360 [==============================] - 142s 395ms/step - loss: 0.0477 - binary_accuracy: 0.9838 - val_loss: 0.0528 - val_binary_accuracy: 0.9852\n",
            "Epoch 3/3\n",
            "360/360 [==============================] - 143s 398ms/step - loss: 0.0234 - binary_accuracy: 0.9919 - val_loss: 0.0558 - val_binary_accuracy: 0.9859\n",
            "Learning Rate 3e-05: done.\n",
            "WARNING:tensorflow:11 out of the last 11 calls to <function recreate_function.<locals>.restored_function_body at 0x7fdfb4307710> triggered tf.function retracing. Tracing is expensive and the excessive number of tracings could be due to (1) creating @tf.function repeatedly in a loop, (2) passing tensors with different shapes, (3) passing Python objects instead of tensors. For (1), please define your @tf.function outside of the loop. For (2), @tf.function has experimental_relax_shapes=True option that relaxes argument shapes that can avoid unnecessary retracing. For (3), please refer to https://www.tensorflow.org/guide/function#controlling_retracing and https://www.tensorflow.org/api_docs/python/tf/function for  more details.\n"
          ],
          "name": "stdout"
        },
        {
          "output_type": "stream",
          "text": [
            "WARNING:tensorflow:11 out of the last 11 calls to <function recreate_function.<locals>.restored_function_body at 0x7fdfb4307710> triggered tf.function retracing. Tracing is expensive and the excessive number of tracings could be due to (1) creating @tf.function repeatedly in a loop, (2) passing tensors with different shapes, (3) passing Python objects instead of tensors. For (1), please define your @tf.function outside of the loop. For (2), @tf.function has experimental_relax_shapes=True option that relaxes argument shapes that can avoid unnecessary retracing. For (3), please refer to https://www.tensorflow.org/guide/function#controlling_retracing and https://www.tensorflow.org/api_docs/python/tf/function for  more details.\n"
          ],
          "name": "stderr"
        },
        {
          "output_type": "stream",
          "text": [
            "WARNING:tensorflow:11 out of the last 11 calls to <function recreate_function.<locals>.restored_function_body at 0x7fdfab8a6950> triggered tf.function retracing. Tracing is expensive and the excessive number of tracings could be due to (1) creating @tf.function repeatedly in a loop, (2) passing tensors with different shapes, (3) passing Python objects instead of tensors. For (1), please define your @tf.function outside of the loop. For (2), @tf.function has experimental_relax_shapes=True option that relaxes argument shapes that can avoid unnecessary retracing. For (3), please refer to https://www.tensorflow.org/guide/function#controlling_retracing and https://www.tensorflow.org/api_docs/python/tf/function for  more details.\n"
          ],
          "name": "stdout"
        },
        {
          "output_type": "stream",
          "text": [
            "WARNING:tensorflow:11 out of the last 11 calls to <function recreate_function.<locals>.restored_function_body at 0x7fdfab8a6950> triggered tf.function retracing. Tracing is expensive and the excessive number of tracings could be due to (1) creating @tf.function repeatedly in a loop, (2) passing tensors with different shapes, (3) passing Python objects instead of tensors. For (1), please define your @tf.function outside of the loop. For (2), @tf.function has experimental_relax_shapes=True option that relaxes argument shapes that can avoid unnecessary retracing. For (3), please refer to https://www.tensorflow.org/guide/function#controlling_retracing and https://www.tensorflow.org/api_docs/python/tf/function for  more details.\n"
          ],
          "name": "stderr"
        },
        {
          "output_type": "stream",
          "text": [
            "WARNING:tensorflow:11 out of the last 11 calls to <function recreate_function.<locals>.restored_function_body at 0x7fdfab8a1050> triggered tf.function retracing. Tracing is expensive and the excessive number of tracings could be due to (1) creating @tf.function repeatedly in a loop, (2) passing tensors with different shapes, (3) passing Python objects instead of tensors. For (1), please define your @tf.function outside of the loop. For (2), @tf.function has experimental_relax_shapes=True option that relaxes argument shapes that can avoid unnecessary retracing. For (3), please refer to https://www.tensorflow.org/guide/function#controlling_retracing and https://www.tensorflow.org/api_docs/python/tf/function for  more details.\n"
          ],
          "name": "stdout"
        },
        {
          "output_type": "stream",
          "text": [
            "WARNING:tensorflow:11 out of the last 11 calls to <function recreate_function.<locals>.restored_function_body at 0x7fdfab8a1050> triggered tf.function retracing. Tracing is expensive and the excessive number of tracings could be due to (1) creating @tf.function repeatedly in a loop, (2) passing tensors with different shapes, (3) passing Python objects instead of tensors. For (1), please define your @tf.function outside of the loop. For (2), @tf.function has experimental_relax_shapes=True option that relaxes argument shapes that can avoid unnecessary retracing. For (3), please refer to https://www.tensorflow.org/guide/function#controlling_retracing and https://www.tensorflow.org/api_docs/python/tf/function for  more details.\n"
          ],
          "name": "stderr"
        },
        {
          "output_type": "stream",
          "text": [
            "Epoch 1/3\n",
            "360/360 [==============================] - 150s 393ms/step - loss: 0.3212 - binary_accuracy: 0.9188 - val_loss: 0.0669 - val_binary_accuracy: 0.9771\n",
            "Epoch 2/3\n",
            "360/360 [==============================] - 141s 391ms/step - loss: 0.0494 - binary_accuracy: 0.9817 - val_loss: 0.0542 - val_binary_accuracy: 0.9837\n",
            "Epoch 3/3\n",
            "360/360 [==============================] - 140s 390ms/step - loss: 0.0348 - binary_accuracy: 0.9880 - val_loss: 0.0521 - val_binary_accuracy: 0.9842\n",
            "Learning Rate 2e-05: done.\n"
          ],
          "name": "stdout"
        }
      ]
    },
    {
      "cell_type": "code",
      "metadata": {
        "colab": {
          "base_uri": "https://localhost:8080/",
          "height": 295
        },
        "id": "pm1JtCMdeOVa",
        "outputId": "b9bf8eaa-1050-4b21-d677-ca696044473a"
      },
      "source": [
        "# Plot validation Loss vs. Epoch\n",
        "for val_accuracy,learningRate in zip(val_accuracies,learningRates):    \n",
        "    plt.plot(range(1,4),val_accuracy,label=f'{learningRate} learning rate')\n",
        "plt.title('Validation Accuracy vs. Epoch')\n",
        "plt.ylabel('Validation Accuracy')\n",
        "plt.xlabel('Epoch')\n",
        "x1,x2,y1,y2 = plt.axis()\n",
        "plt.legend()\n",
        "plt.show() "
      ],
      "id": "pm1JtCMdeOVa",
      "execution_count": 81,
      "outputs": [
        {
          "output_type": "display_data",
          "data": {
            "image/png": "[encoded data removed]",
            "text/plain": [
              "<Figure size 432x288 with 1 Axes>"
            ]
          },
          "metadata": {
            "tags": [],
            "needs_background": "light"
          }
        }
      ]
    },
    {
      "cell_type": "markdown",
      "metadata": {
        "id": "sQF8Tp-VyCcB"
      },
      "source": [
        "### Label Smoothing Fine Tuning"
      ],
      "id": "sQF8Tp-VyCcB"
    },
    {
      "cell_type": "code",
      "metadata": {
        "colab": {
          "base_uri": "https://localhost:8080/"
        },
        "id": "7mgjJc5hyOPI",
        "outputId": "f5e656fc-4ff3-41d8-90ec-b7bbe31f07e6"
      },
      "source": [
        "# Lets try choose the right dropout amount\n",
        "#https://www.tensorflow.org/tutorials/text/classify_text_with_bert#choose_a_bert_model_to_fine-tune\n",
        "labelSmoothings = [.1,.3,.5]\n",
        "val_accuracies=[]\n",
        "for labelSmoothing in labelSmoothings:\n",
        "  bert_model = BERT_champion_nn(0.1)\n",
        "  loss=losses.BinaryCrossentropy(from_logits=True,label_smoothing=labelSmoothing)\n",
        "  optimizer = optimization.create_optimizer(init_lr=3e-5,\n",
        "                                            num_train_steps=num_train_steps,\n",
        "                                            num_warmup_steps=num_warmup_steps,\n",
        "                                            optimizer_type='adamw')\n",
        "  bert_model.compile(optimizer=optimizer,\n",
        "                          loss=loss,\n",
        "                          metrics=metrics)\n",
        "  history = bert_model.fit(\n",
        "      raw_train_ds,\n",
        "      validation_data=raw_val_ds,\n",
        "      epochs=epochs)\n",
        "  print(f'Label Smoothing {labelSmoothing}: done.')\n",
        "  val_accuracies.append(history.history['val_binary_accuracy'])"
      ],
      "id": "7mgjJc5hyOPI",
      "execution_count": 82,
      "outputs": [
        {
          "output_type": "stream",
          "text": [
            "WARNING:tensorflow:11 out of the last 11 calls to <function recreate_function.<locals>.restored_function_body at 0x7fdf9ad00f80> triggered tf.function retracing. Tracing is expensive and the excessive number of tracings could be due to (1) creating @tf.function repeatedly in a loop, (2) passing tensors with different shapes, (3) passing Python objects instead of tensors. For (1), please define your @tf.function outside of the loop. For (2), @tf.function has experimental_relax_shapes=True option that relaxes argument shapes that can avoid unnecessary retracing. For (3), please refer to https://www.tensorflow.org/guide/function#controlling_retracing and https://www.tensorflow.org/api_docs/python/tf/function for  more details.\n"
          ],
          "name": "stdout"
        },
        {
          "output_type": "stream",
          "text": [
            "WARNING:tensorflow:11 out of the last 11 calls to <function recreate_function.<locals>.restored_function_body at 0x7fdf9ad00f80> triggered tf.function retracing. Tracing is expensive and the excessive number of tracings could be due to (1) creating @tf.function repeatedly in a loop, (2) passing tensors with different shapes, (3) passing Python objects instead of tensors. For (1), please define your @tf.function outside of the loop. For (2), @tf.function has experimental_relax_shapes=True option that relaxes argument shapes that can avoid unnecessary retracing. For (3), please refer to https://www.tensorflow.org/guide/function#controlling_retracing and https://www.tensorflow.org/api_docs/python/tf/function for  more details.\n"
          ],
          "name": "stderr"
        },
        {
          "output_type": "stream",
          "text": [
            "WARNING:tensorflow:11 out of the last 11 calls to <function recreate_function.<locals>.restored_function_body at 0x7fdf9d3044d0> triggered tf.function retracing. Tracing is expensive and the excessive number of tracings could be due to (1) creating @tf.function repeatedly in a loop, (2) passing tensors with different shapes, (3) passing Python objects instead of tensors. For (1), please define your @tf.function outside of the loop. For (2), @tf.function has experimental_relax_shapes=True option that relaxes argument shapes that can avoid unnecessary retracing. For (3), please refer to https://www.tensorflow.org/guide/function#controlling_retracing and https://www.tensorflow.org/api_docs/python/tf/function for  more details.\n"
          ],
          "name": "stdout"
        },
        {
          "output_type": "stream",
          "text": [
            "WARNING:tensorflow:11 out of the last 11 calls to <function recreate_function.<locals>.restored_function_body at 0x7fdf9d3044d0> triggered tf.function retracing. Tracing is expensive and the excessive number of tracings could be due to (1) creating @tf.function repeatedly in a loop, (2) passing tensors with different shapes, (3) passing Python objects instead of tensors. For (1), please define your @tf.function outside of the loop. For (2), @tf.function has experimental_relax_shapes=True option that relaxes argument shapes that can avoid unnecessary retracing. For (3), please refer to https://www.tensorflow.org/guide/function#controlling_retracing and https://www.tensorflow.org/api_docs/python/tf/function for  more details.\n"
          ],
          "name": "stderr"
        },
        {
          "output_type": "stream",
          "text": [
            "WARNING:tensorflow:11 out of the last 11 calls to <function recreate_function.<locals>.restored_function_body at 0x7fdfa1b818c0> triggered tf.function retracing. Tracing is expensive and the excessive number of tracings could be due to (1) creating @tf.function repeatedly in a loop, (2) passing tensors with different shapes, (3) passing Python objects instead of tensors. For (1), please define your @tf.function outside of the loop. For (2), @tf.function has experimental_relax_shapes=True option that relaxes argument shapes that can avoid unnecessary retracing. For (3), please refer to https://www.tensorflow.org/guide/function#controlling_retracing and https://www.tensorflow.org/api_docs/python/tf/function for  more details.\n"
          ],
          "name": "stdout"
        },
        {
          "output_type": "stream",
          "text": [
            "WARNING:tensorflow:11 out of the last 11 calls to <function recreate_function.<locals>.restored_function_body at 0x7fdfa1b818c0> triggered tf.function retracing. Tracing is expensive and the excessive number of tracings could be due to (1) creating @tf.function repeatedly in a loop, (2) passing tensors with different shapes, (3) passing Python objects instead of tensors. For (1), please define your @tf.function outside of the loop. For (2), @tf.function has experimental_relax_shapes=True option that relaxes argument shapes that can avoid unnecessary retracing. For (3), please refer to https://www.tensorflow.org/guide/function#controlling_retracing and https://www.tensorflow.org/api_docs/python/tf/function for  more details.\n"
          ],
          "name": "stderr"
        },
        {
          "output_type": "stream",
          "text": [
            "Epoch 1/3\n",
            "360/360 [==============================] - 146s 390ms/step - loss: 0.4096 - binary_accuracy: 0.9316 - val_loss: 0.2354 - val_binary_accuracy: 0.9825\n",
            "Epoch 2/3\n",
            "360/360 [==============================] - 141s 391ms/step - loss: 0.2402 - binary_accuracy: 0.9826 - val_loss: 0.2422 - val_binary_accuracy: 0.9783\n",
            "Epoch 3/3\n",
            "360/360 [==============================] - 140s 389ms/step - loss: 0.2240 - binary_accuracy: 0.9914 - val_loss: 0.2295 - val_binary_accuracy: 0.9847\n",
            "Label Smoothing 0.1: done.\n",
            "WARNING:tensorflow:11 out of the last 11 calls to <function recreate_function.<locals>.restored_function_body at 0x7fdf9cef4560> triggered tf.function retracing. Tracing is expensive and the excessive number of tracings could be due to (1) creating @tf.function repeatedly in a loop, (2) passing tensors with different shapes, (3) passing Python objects instead of tensors. For (1), please define your @tf.function outside of the loop. For (2), @tf.function has experimental_relax_shapes=True option that relaxes argument shapes that can avoid unnecessary retracing. For (3), please refer to https://www.tensorflow.org/guide/function#controlling_retracing and https://www.tensorflow.org/api_docs/python/tf/function for  more details.\n"
          ],
          "name": "stdout"
        },
        {
          "output_type": "stream",
          "text": [
            "WARNING:tensorflow:11 out of the last 11 calls to <function recreate_function.<locals>.restored_function_body at 0x7fdf9cef4560> triggered tf.function retracing. Tracing is expensive and the excessive number of tracings could be due to (1) creating @tf.function repeatedly in a loop, (2) passing tensors with different shapes, (3) passing Python objects instead of tensors. For (1), please define your @tf.function outside of the loop. For (2), @tf.function has experimental_relax_shapes=True option that relaxes argument shapes that can avoid unnecessary retracing. For (3), please refer to https://www.tensorflow.org/guide/function#controlling_retracing and https://www.tensorflow.org/api_docs/python/tf/function for  more details.\n"
          ],
          "name": "stderr"
        },
        {
          "output_type": "stream",
          "text": [
            "WARNING:tensorflow:11 out of the last 11 calls to <function recreate_function.<locals>.restored_function_body at 0x7fdf9cf10170> triggered tf.function retracing. Tracing is expensive and the excessive number of tracings could be due to (1) creating @tf.function repeatedly in a loop, (2) passing tensors with different shapes, (3) passing Python objects instead of tensors. For (1), please define your @tf.function outside of the loop. For (2), @tf.function has experimental_relax_shapes=True option that relaxes argument shapes that can avoid unnecessary retracing. For (3), please refer to https://www.tensorflow.org/guide/function#controlling_retracing and https://www.tensorflow.org/api_docs/python/tf/function for  more details.\n"
          ],
          "name": "stdout"
        },
        {
          "output_type": "stream",
          "text": [
            "WARNING:tensorflow:11 out of the last 11 calls to <function recreate_function.<locals>.restored_function_body at 0x7fdf9cf10170> triggered tf.function retracing. Tracing is expensive and the excessive number of tracings could be due to (1) creating @tf.function repeatedly in a loop, (2) passing tensors with different shapes, (3) passing Python objects instead of tensors. For (1), please define your @tf.function outside of the loop. For (2), @tf.function has experimental_relax_shapes=True option that relaxes argument shapes that can avoid unnecessary retracing. For (3), please refer to https://www.tensorflow.org/guide/function#controlling_retracing and https://www.tensorflow.org/api_docs/python/tf/function for  more details.\n"
          ],
          "name": "stderr"
        },
        {
          "output_type": "stream",
          "text": [
            "WARNING:tensorflow:11 out of the last 11 calls to <function recreate_function.<locals>.restored_function_body at 0x7fdfab8a1710> triggered tf.function retracing. Tracing is expensive and the excessive number of tracings could be due to (1) creating @tf.function repeatedly in a loop, (2) passing tensors with different shapes, (3) passing Python objects instead of tensors. For (1), please define your @tf.function outside of the loop. For (2), @tf.function has experimental_relax_shapes=True option that relaxes argument shapes that can avoid unnecessary retracing. For (3), please refer to https://www.tensorflow.org/guide/function#controlling_retracing and https://www.tensorflow.org/api_docs/python/tf/function for  more details.\n"
          ],
          "name": "stdout"
        },
        {
          "output_type": "stream",
          "text": [
            "WARNING:tensorflow:11 out of the last 11 calls to <function recreate_function.<locals>.restored_function_body at 0x7fdfab8a1710> triggered tf.function retracing. Tracing is expensive and the excessive number of tracings could be due to (1) creating @tf.function repeatedly in a loop, (2) passing tensors with different shapes, (3) passing Python objects instead of tensors. For (1), please define your @tf.function outside of the loop. For (2), @tf.function has experimental_relax_shapes=True option that relaxes argument shapes that can avoid unnecessary retracing. For (3), please refer to https://www.tensorflow.org/guide/function#controlling_retracing and https://www.tensorflow.org/api_docs/python/tf/function for  more details.\n"
          ],
          "name": "stderr"
        },
        {
          "output_type": "stream",
          "text": [
            "Epoch 1/3\n",
            "360/360 [==============================] - 145s 389ms/step - loss: 0.5754 - binary_accuracy: 0.9283 - val_loss: 0.4483 - val_binary_accuracy: 0.9788\n",
            "Epoch 2/3\n",
            "360/360 [==============================] - 140s 388ms/step - loss: 0.4604 - binary_accuracy: 0.9783 - val_loss: 0.4430 - val_binary_accuracy: 0.9795\n",
            "Epoch 3/3\n",
            "360/360 [==============================] - 140s 389ms/step - loss: 0.4514 - binary_accuracy: 0.9872 - val_loss: 0.4406 - val_binary_accuracy: 0.9816\n",
            "Label Smoothing 0.3: done.\n",
            "WARNING:tensorflow:11 out of the last 11 calls to <function recreate_function.<locals>.restored_function_body at 0x7fdfa6f387a0> triggered tf.function retracing. Tracing is expensive and the excessive number of tracings could be due to (1) creating @tf.function repeatedly in a loop, (2) passing tensors with different shapes, (3) passing Python objects instead of tensors. For (1), please define your @tf.function outside of the loop. For (2), @tf.function has experimental_relax_shapes=True option that relaxes argument shapes that can avoid unnecessary retracing. For (3), please refer to https://www.tensorflow.org/guide/function#controlling_retracing and https://www.tensorflow.org/api_docs/python/tf/function for  more details.\n"
          ],
          "name": "stdout"
        },
        {
          "output_type": "stream",
          "text": [
            "WARNING:tensorflow:11 out of the last 11 calls to <function recreate_function.<locals>.restored_function_body at 0x7fdfa6f387a0> triggered tf.function retracing. Tracing is expensive and the excessive number of tracings could be due to (1) creating @tf.function repeatedly in a loop, (2) passing tensors with different shapes, (3) passing Python objects instead of tensors. For (1), please define your @tf.function outside of the loop. For (2), @tf.function has experimental_relax_shapes=True option that relaxes argument shapes that can avoid unnecessary retracing. For (3), please refer to https://www.tensorflow.org/guide/function#controlling_retracing and https://www.tensorflow.org/api_docs/python/tf/function for  more details.\n"
          ],
          "name": "stderr"
        },
        {
          "output_type": "stream",
          "text": [
            "WARNING:tensorflow:11 out of the last 11 calls to <function recreate_function.<locals>.restored_function_body at 0x7fdfa6f38170> triggered tf.function retracing. Tracing is expensive and the excessive number of tracings could be due to (1) creating @tf.function repeatedly in a loop, (2) passing tensors with different shapes, (3) passing Python objects instead of tensors. For (1), please define your @tf.function outside of the loop. For (2), @tf.function has experimental_relax_shapes=True option that relaxes argument shapes that can avoid unnecessary retracing. For (3), please refer to https://www.tensorflow.org/guide/function#controlling_retracing and https://www.tensorflow.org/api_docs/python/tf/function for  more details.\n"
          ],
          "name": "stdout"
        },
        {
          "output_type": "stream",
          "text": [
            "WARNING:tensorflow:11 out of the last 11 calls to <function recreate_function.<locals>.restored_function_body at 0x7fdfa6f38170> triggered tf.function retracing. Tracing is expensive and the excessive number of tracings could be due to (1) creating @tf.function repeatedly in a loop, (2) passing tensors with different shapes, (3) passing Python objects instead of tensors. For (1), please define your @tf.function outside of the loop. For (2), @tf.function has experimental_relax_shapes=True option that relaxes argument shapes that can avoid unnecessary retracing. For (3), please refer to https://www.tensorflow.org/guide/function#controlling_retracing and https://www.tensorflow.org/api_docs/python/tf/function for  more details.\n"
          ],
          "name": "stderr"
        },
        {
          "output_type": "stream",
          "text": [
            "WARNING:tensorflow:11 out of the last 11 calls to <function recreate_function.<locals>.restored_function_body at 0x7fdf9d3045f0> triggered tf.function retracing. Tracing is expensive and the excessive number of tracings could be due to (1) creating @tf.function repeatedly in a loop, (2) passing tensors with different shapes, (3) passing Python objects instead of tensors. For (1), please define your @tf.function outside of the loop. For (2), @tf.function has experimental_relax_shapes=True option that relaxes argument shapes that can avoid unnecessary retracing. For (3), please refer to https://www.tensorflow.org/guide/function#controlling_retracing and https://www.tensorflow.org/api_docs/python/tf/function for  more details.\n"
          ],
          "name": "stdout"
        },
        {
          "output_type": "stream",
          "text": [
            "WARNING:tensorflow:11 out of the last 11 calls to <function recreate_function.<locals>.restored_function_body at 0x7fdf9d3045f0> triggered tf.function retracing. Tracing is expensive and the excessive number of tracings could be due to (1) creating @tf.function repeatedly in a loop, (2) passing tensors with different shapes, (3) passing Python objects instead of tensors. For (1), please define your @tf.function outside of the loop. For (2), @tf.function has experimental_relax_shapes=True option that relaxes argument shapes that can avoid unnecessary retracing. For (3), please refer to https://www.tensorflow.org/guide/function#controlling_retracing and https://www.tensorflow.org/api_docs/python/tf/function for  more details.\n"
          ],
          "name": "stderr"
        },
        {
          "output_type": "stream",
          "text": [
            "Epoch 1/3\n",
            "360/360 [==============================] - 148s 390ms/step - loss: 0.7005 - binary_accuracy: 0.8870 - val_loss: 0.5837 - val_binary_accuracy: 0.9701\n",
            "Epoch 2/3\n",
            "360/360 [==============================] - 141s 392ms/step - loss: 0.5964 - binary_accuracy: 0.9586 - val_loss: 0.5726 - val_binary_accuracy: 0.9802\n",
            "Epoch 3/3\n",
            "360/360 [==============================] - 142s 394ms/step - loss: 0.5908 - binary_accuracy: 0.9711 - val_loss: 0.5710 - val_binary_accuracy: 0.9819\n",
            "Label Smoothing 0.5: done.\n"
          ],
          "name": "stdout"
        }
      ]
    },
    {
      "cell_type": "code",
      "metadata": {
        "colab": {
          "base_uri": "https://localhost:8080/",
          "height": 295
        },
        "id": "IrugELSIyooJ",
        "outputId": "dc561802-4ef2-4946-b267-05c4a08099d3"
      },
      "source": [
        "# Plot validation Loss vs. Epoch\n",
        "for val_accuracy,labelSmoothing in zip(val_accuracies,labelSmoothings):    \n",
        "    plt.plot(range(1,4),val_accuracy,label=f'{labelSmoothing} label smoothing')\n",
        "plt.title('Validation Accuracy vs. Epoch')\n",
        "plt.ylabel('Validation Accuracy')\n",
        "plt.xlabel('Epoch')\n",
        "x1,x2,y1,y2 = plt.axis()\n",
        "plt.legend()\n",
        "plt.show() "
      ],
      "id": "IrugELSIyooJ",
      "execution_count": 84,
      "outputs": [
        {
          "output_type": "display_data",
          "data": {
            "image/png": "[encoded data removed]",
            "text/plain": [
              "<Figure size 432x288 with 1 Axes>"
            ]
          },
          "metadata": {
            "tags": [],
            "needs_background": "light"
          }
        }
      ]
    },
    {
      "cell_type": "markdown",
      "metadata": {
        "id": "9i-nSIVo4teg"
      },
      "source": [
        "## Final Model"
      ],
      "id": "9i-nSIVo4teg"
    },
    {
      "cell_type": "code",
      "metadata": {
        "colab": {
          "base_uri": "https://localhost:8080/"
        },
        "id": "w_LlzxAp4knZ",
        "outputId": "bebddb50-6b42-4492-db1a-4df4903ed655"
      },
      "source": [
        "best_bert_model = BERT_champion_nn(0.1)\n",
        "loss=losses.BinaryCrossentropy(from_logits=True,label_smoothing=0.1)\n",
        "optimizer = optimization.create_optimizer(init_lr=3e-5,\n",
        "                                          num_train_steps=num_train_steps,\n",
        "                                          num_warmup_steps=num_warmup_steps,\n",
        "                                          optimizer_type='adamw')\n",
        "best_bert_model.compile(optimizer=optimizer,\n",
        "                        loss=loss,\n",
        "                        metrics=metrics)\n",
        "history = best_bert_model.fit(\n",
        "    raw_train_ds,\n",
        "    validation_data=raw_val_ds,\n",
        "    epochs=epochs)"
      ],
      "id": "w_LlzxAp4knZ",
      "execution_count": 86,
      "outputs": [
        {
          "output_type": "stream",
          "text": [
            "WARNING:tensorflow:11 out of the last 11 calls to <function recreate_function.<locals>.restored_function_body at 0x7fe0b62ee560> triggered tf.function retracing. Tracing is expensive and the excessive number of tracings could be due to (1) creating @tf.function repeatedly in a loop, (2) passing tensors with different shapes, (3) passing Python objects instead of tensors. For (1), please define your @tf.function outside of the loop. For (2), @tf.function has experimental_relax_shapes=True option that relaxes argument shapes that can avoid unnecessary retracing. For (3), please refer to https://www.tensorflow.org/guide/function#controlling_retracing and https://www.tensorflow.org/api_docs/python/tf/function for  more details.\n"
          ],
          "name": "stdout"
        },
        {
          "output_type": "stream",
          "text": [
            "WARNING:tensorflow:11 out of the last 11 calls to <function recreate_function.<locals>.restored_function_body at 0x7fe0b62ee560> triggered tf.function retracing. Tracing is expensive and the excessive number of tracings could be due to (1) creating @tf.function repeatedly in a loop, (2) passing tensors with different shapes, (3) passing Python objects instead of tensors. For (1), please define your @tf.function outside of the loop. For (2), @tf.function has experimental_relax_shapes=True option that relaxes argument shapes that can avoid unnecessary retracing. For (3), please refer to https://www.tensorflow.org/guide/function#controlling_retracing and https://www.tensorflow.org/api_docs/python/tf/function for  more details.\n"
          ],
          "name": "stderr"
        },
        {
          "output_type": "stream",
          "text": [
            "WARNING:tensorflow:11 out of the last 11 calls to <function recreate_function.<locals>.restored_function_body at 0x7fe0b513fd40> triggered tf.function retracing. Tracing is expensive and the excessive number of tracings could be due to (1) creating @tf.function repeatedly in a loop, (2) passing tensors with different shapes, (3) passing Python objects instead of tensors. For (1), please define your @tf.function outside of the loop. For (2), @tf.function has experimental_relax_shapes=True option that relaxes argument shapes that can avoid unnecessary retracing. For (3), please refer to https://www.tensorflow.org/guide/function#controlling_retracing and https://www.tensorflow.org/api_docs/python/tf/function for  more details.\n"
          ],
          "name": "stdout"
        },
        {
          "output_type": "stream",
          "text": [
            "WARNING:tensorflow:11 out of the last 11 calls to <function recreate_function.<locals>.restored_function_body at 0x7fe0b513fd40> triggered tf.function retracing. Tracing is expensive and the excessive number of tracings could be due to (1) creating @tf.function repeatedly in a loop, (2) passing tensors with different shapes, (3) passing Python objects instead of tensors. For (1), please define your @tf.function outside of the loop. For (2), @tf.function has experimental_relax_shapes=True option that relaxes argument shapes that can avoid unnecessary retracing. For (3), please refer to https://www.tensorflow.org/guide/function#controlling_retracing and https://www.tensorflow.org/api_docs/python/tf/function for  more details.\n"
          ],
          "name": "stderr"
        },
        {
          "output_type": "stream",
          "text": [
            "Epoch 1/3\n",
            "WARNING:tensorflow:11 out of the last 11 calls to <function recreate_function.<locals>.restored_function_body at 0x7fdf9cf10830> triggered tf.function retracing. Tracing is expensive and the excessive number of tracings could be due to (1) creating @tf.function repeatedly in a loop, (2) passing tensors with different shapes, (3) passing Python objects instead of tensors. For (1), please define your @tf.function outside of the loop. For (2), @tf.function has experimental_relax_shapes=True option that relaxes argument shapes that can avoid unnecessary retracing. For (3), please refer to https://www.tensorflow.org/guide/function#controlling_retracing and https://www.tensorflow.org/api_docs/python/tf/function for  more details.\n"
          ],
          "name": "stdout"
        },
        {
          "output_type": "stream",
          "text": [
            "WARNING:tensorflow:11 out of the last 11 calls to <function recreate_function.<locals>.restored_function_body at 0x7fdf9cf10830> triggered tf.function retracing. Tracing is expensive and the excessive number of tracings could be due to (1) creating @tf.function repeatedly in a loop, (2) passing tensors with different shapes, (3) passing Python objects instead of tensors. For (1), please define your @tf.function outside of the loop. For (2), @tf.function has experimental_relax_shapes=True option that relaxes argument shapes that can avoid unnecessary retracing. For (3), please refer to https://www.tensorflow.org/guide/function#controlling_retracing and https://www.tensorflow.org/api_docs/python/tf/function for  more details.\n"
          ],
          "name": "stderr"
        },
        {
          "output_type": "stream",
          "text": [
            "360/360 [==============================] - 149s 395ms/step - loss: 0.4285 - binary_accuracy: 0.9217 - val_loss: 0.2450 - val_binary_accuracy: 0.9793\n",
            "Epoch 2/3\n",
            "360/360 [==============================] - 143s 396ms/step - loss: 0.2388 - binary_accuracy: 0.9849 - val_loss: 0.2303 - val_binary_accuracy: 0.9845\n",
            "Epoch 3/3\n",
            "360/360 [==============================] - 142s 395ms/step - loss: 0.2248 - binary_accuracy: 0.9902 - val_loss: 0.2270 - val_binary_accuracy: 0.9852\n"
          ],
          "name": "stdout"
        }
      ]
    },
    {
      "cell_type": "code",
      "metadata": {
        "colab": {
          "base_uri": "https://localhost:8080/"
        },
        "id": "JGfChnau6kN7",
        "outputId": "06f0900e-f4ba-42c6-9f6c-f4710f06c23b"
      },
      "source": [
        "bert_accuracy,bert_tweet_accuracy = runEvaluation(best_bert_model)\n",
        "print('same dataset evaluation accuracy:')\n",
        "print(bert_accuracy)\n",
        "print('twitter dataset evaluation accuracy:')\n",
        "print(bert_tweet_accuracy)"
      ],
      "id": "JGfChnau6kN7",
      "execution_count": 88,
      "outputs": [
        {
          "output_type": "stream",
          "text": [
            "same dataset evaluation accuracy:\n",
            "0.9865625\n",
            "twitter dataset evaluation accuracy:\n",
            "0.6094\n"
          ],
          "name": "stdout"
        }
      ]
    }
  ]
}